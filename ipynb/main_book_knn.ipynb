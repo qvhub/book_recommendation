{
 "metadata": {
  "language_info": {
   "codemirror_mode": {
    "name": "ipython",
    "version": 3
   },
   "file_extension": ".py",
   "mimetype": "text/x-python",
   "name": "python",
   "nbconvert_exporter": "python",
   "pygments_lexer": "ipython3",
   "version": "3.8.5"
  },
  "orig_nbformat": 2,
  "kernelspec": {
   "name": "python3",
   "display_name": "Python 3.8.5 64-bit ('.venv_book': venv)"
  },
  "metadata": {
   "interpreter": {
    "hash": "83937ba68736e5ee220a6f8a488f1aa3dddcb77bbb67171a77b84897af531c5c"
   }
  },
  "interpreter": {
   "hash": "83937ba68736e5ee220a6f8a488f1aa3dddcb77bbb67171a77b84897af531c5c"
  }
 },
 "nbformat": 4,
 "nbformat_minor": 2,
 "cells": [
  {
   "cell_type": "code",
   "execution_count": 1,
   "metadata": {},
   "outputs": [],
   "source": [
    "import pandas as pd\n",
    "import numpy as np"
   ]
  },
  {
   "cell_type": "code",
   "execution_count": 3,
   "metadata": {},
   "outputs": [],
   "source": [
    "df_ratings = pd.read_csv('/home/quentin/Documents/simplon/20210406_moteur_de_recommandation_de_livre/source/goodbooks-10k-master/ratings.csv', index_col=False)\n",
    "\n",
    "df_books = pd.read_csv('/home/quentin/Documents/simplon/20210406_moteur_de_recommandation_de_livre/source/goodbooks-10k-master/books.csv', index_col=False)"
   ]
  },
  {
   "cell_type": "code",
   "execution_count": 4,
   "metadata": {},
   "outputs": [
    {
     "output_type": "execute_result",
     "data": {
      "text/plain": [
       "            user_id       book_id        rating\n",
       "count  5.976479e+06  5.976479e+06  5.976479e+06\n",
       "mean   2.622446e+04  2.006477e+03  3.919866e+00\n",
       "std    1.541323e+04  2.468499e+03  9.910868e-01\n",
       "min    1.000000e+00  1.000000e+00  1.000000e+00\n",
       "25%    1.281300e+04  1.980000e+02  3.000000e+00\n",
       "50%    2.593800e+04  8.850000e+02  4.000000e+00\n",
       "75%    3.950900e+04  2.973000e+03  5.000000e+00\n",
       "max    5.342400e+04  1.000000e+04  5.000000e+00"
      ],
      "text/html": "<div>\n<style scoped>\n    .dataframe tbody tr th:only-of-type {\n        vertical-align: middle;\n    }\n\n    .dataframe tbody tr th {\n        vertical-align: top;\n    }\n\n    .dataframe thead th {\n        text-align: right;\n    }\n</style>\n<table border=\"1\" class=\"dataframe\">\n  <thead>\n    <tr style=\"text-align: right;\">\n      <th></th>\n      <th>user_id</th>\n      <th>book_id</th>\n      <th>rating</th>\n    </tr>\n  </thead>\n  <tbody>\n    <tr>\n      <th>count</th>\n      <td>5.976479e+06</td>\n      <td>5.976479e+06</td>\n      <td>5.976479e+06</td>\n    </tr>\n    <tr>\n      <th>mean</th>\n      <td>2.622446e+04</td>\n      <td>2.006477e+03</td>\n      <td>3.919866e+00</td>\n    </tr>\n    <tr>\n      <th>std</th>\n      <td>1.541323e+04</td>\n      <td>2.468499e+03</td>\n      <td>9.910868e-01</td>\n    </tr>\n    <tr>\n      <th>min</th>\n      <td>1.000000e+00</td>\n      <td>1.000000e+00</td>\n      <td>1.000000e+00</td>\n    </tr>\n    <tr>\n      <th>25%</th>\n      <td>1.281300e+04</td>\n      <td>1.980000e+02</td>\n      <td>3.000000e+00</td>\n    </tr>\n    <tr>\n      <th>50%</th>\n      <td>2.593800e+04</td>\n      <td>8.850000e+02</td>\n      <td>4.000000e+00</td>\n    </tr>\n    <tr>\n      <th>75%</th>\n      <td>3.950900e+04</td>\n      <td>2.973000e+03</td>\n      <td>5.000000e+00</td>\n    </tr>\n    <tr>\n      <th>max</th>\n      <td>5.342400e+04</td>\n      <td>1.000000e+04</td>\n      <td>5.000000e+00</td>\n    </tr>\n  </tbody>\n</table>\n</div>"
     },
     "metadata": {},
     "execution_count": 4
    }
   ],
   "source": [
    "df_ratings.describe()"
   ]
  },
  {
   "cell_type": "code",
   "execution_count": 5,
   "metadata": {},
   "outputs": [
    {
     "output_type": "execute_result",
     "data": {
      "text/plain": [
       "           book_id  goodreads_book_id  best_book_id       work_id  \\\n",
       "count  10000.00000       1.000000e+04  1.000000e+04  1.000000e+04   \n",
       "mean    5000.50000       5.264697e+06  5.471214e+06  8.646183e+06   \n",
       "std     2886.89568       7.575462e+06  7.827330e+06  1.175106e+07   \n",
       "min        1.00000       1.000000e+00  1.000000e+00  8.700000e+01   \n",
       "25%     2500.75000       4.627575e+04  4.791175e+04  1.008841e+06   \n",
       "50%     5000.50000       3.949655e+05  4.251235e+05  2.719524e+06   \n",
       "75%     7500.25000       9.382225e+06  9.636112e+06  1.451775e+07   \n",
       "max    10000.00000       3.328864e+07  3.553423e+07  5.639960e+07   \n",
       "\n",
       "        books_count        isbn13  original_publication_year  average_rating  \\\n",
       "count  10000.000000  9.415000e+03                9979.000000    10000.000000   \n",
       "mean      75.712700  9.755044e+12                1981.987674        4.002191   \n",
       "std      170.470728  4.428619e+11                 152.576665        0.254427   \n",
       "min        1.000000  1.951703e+08               -1750.000000        2.470000   \n",
       "25%       23.000000  9.780316e+12                1990.000000        3.850000   \n",
       "50%       40.000000  9.780452e+12                2004.000000        4.020000   \n",
       "75%       67.000000  9.780831e+12                2011.000000        4.180000   \n",
       "max     3455.000000  9.790008e+12                2017.000000        4.820000   \n",
       "\n",
       "       ratings_count  work_ratings_count  work_text_reviews_count  \\\n",
       "count   1.000000e+04        1.000000e+04             10000.000000   \n",
       "mean    5.400124e+04        5.968732e+04              2919.955300   \n",
       "std     1.573700e+05        1.678038e+05              6124.378132   \n",
       "min     2.716000e+03        5.510000e+03                 3.000000   \n",
       "25%     1.356875e+04        1.543875e+04               694.000000   \n",
       "50%     2.115550e+04        2.383250e+04              1402.000000   \n",
       "75%     4.105350e+04        4.591500e+04              2744.250000   \n",
       "max     4.780653e+06        4.942365e+06            155254.000000   \n",
       "\n",
       "           ratings_1      ratings_2      ratings_3     ratings_4     ratings_5  \n",
       "count   10000.000000   10000.000000   10000.000000  1.000000e+04  1.000000e+04  \n",
       "mean     1345.040600    3110.885000   11475.893800  1.996570e+04  2.378981e+04  \n",
       "std      6635.626263    9717.123578   28546.449183  5.144736e+04  7.976889e+04  \n",
       "min        11.000000      30.000000     323.000000  7.500000e+02  7.540000e+02  \n",
       "25%       196.000000     656.000000    3112.000000  5.405750e+03  5.334000e+03  \n",
       "50%       391.000000    1163.000000    4894.000000  8.269500e+03  8.836000e+03  \n",
       "75%       885.000000    2353.250000    9287.000000  1.602350e+04  1.730450e+04  \n",
       "max    456191.000000  436802.000000  793319.000000  1.481305e+06  3.011543e+06  "
      ],
      "text/html": "<div>\n<style scoped>\n    .dataframe tbody tr th:only-of-type {\n        vertical-align: middle;\n    }\n\n    .dataframe tbody tr th {\n        vertical-align: top;\n    }\n\n    .dataframe thead th {\n        text-align: right;\n    }\n</style>\n<table border=\"1\" class=\"dataframe\">\n  <thead>\n    <tr style=\"text-align: right;\">\n      <th></th>\n      <th>book_id</th>\n      <th>goodreads_book_id</th>\n      <th>best_book_id</th>\n      <th>work_id</th>\n      <th>books_count</th>\n      <th>isbn13</th>\n      <th>original_publication_year</th>\n      <th>average_rating</th>\n      <th>ratings_count</th>\n      <th>work_ratings_count</th>\n      <th>work_text_reviews_count</th>\n      <th>ratings_1</th>\n      <th>ratings_2</th>\n      <th>ratings_3</th>\n      <th>ratings_4</th>\n      <th>ratings_5</th>\n    </tr>\n  </thead>\n  <tbody>\n    <tr>\n      <th>count</th>\n      <td>10000.00000</td>\n      <td>1.000000e+04</td>\n      <td>1.000000e+04</td>\n      <td>1.000000e+04</td>\n      <td>10000.000000</td>\n      <td>9.415000e+03</td>\n      <td>9979.000000</td>\n      <td>10000.000000</td>\n      <td>1.000000e+04</td>\n      <td>1.000000e+04</td>\n      <td>10000.000000</td>\n      <td>10000.000000</td>\n      <td>10000.000000</td>\n      <td>10000.000000</td>\n      <td>1.000000e+04</td>\n      <td>1.000000e+04</td>\n    </tr>\n    <tr>\n      <th>mean</th>\n      <td>5000.50000</td>\n      <td>5.264697e+06</td>\n      <td>5.471214e+06</td>\n      <td>8.646183e+06</td>\n      <td>75.712700</td>\n      <td>9.755044e+12</td>\n      <td>1981.987674</td>\n      <td>4.002191</td>\n      <td>5.400124e+04</td>\n      <td>5.968732e+04</td>\n      <td>2919.955300</td>\n      <td>1345.040600</td>\n      <td>3110.885000</td>\n      <td>11475.893800</td>\n      <td>1.996570e+04</td>\n      <td>2.378981e+04</td>\n    </tr>\n    <tr>\n      <th>std</th>\n      <td>2886.89568</td>\n      <td>7.575462e+06</td>\n      <td>7.827330e+06</td>\n      <td>1.175106e+07</td>\n      <td>170.470728</td>\n      <td>4.428619e+11</td>\n      <td>152.576665</td>\n      <td>0.254427</td>\n      <td>1.573700e+05</td>\n      <td>1.678038e+05</td>\n      <td>6124.378132</td>\n      <td>6635.626263</td>\n      <td>9717.123578</td>\n      <td>28546.449183</td>\n      <td>5.144736e+04</td>\n      <td>7.976889e+04</td>\n    </tr>\n    <tr>\n      <th>min</th>\n      <td>1.00000</td>\n      <td>1.000000e+00</td>\n      <td>1.000000e+00</td>\n      <td>8.700000e+01</td>\n      <td>1.000000</td>\n      <td>1.951703e+08</td>\n      <td>-1750.000000</td>\n      <td>2.470000</td>\n      <td>2.716000e+03</td>\n      <td>5.510000e+03</td>\n      <td>3.000000</td>\n      <td>11.000000</td>\n      <td>30.000000</td>\n      <td>323.000000</td>\n      <td>7.500000e+02</td>\n      <td>7.540000e+02</td>\n    </tr>\n    <tr>\n      <th>25%</th>\n      <td>2500.75000</td>\n      <td>4.627575e+04</td>\n      <td>4.791175e+04</td>\n      <td>1.008841e+06</td>\n      <td>23.000000</td>\n      <td>9.780316e+12</td>\n      <td>1990.000000</td>\n      <td>3.850000</td>\n      <td>1.356875e+04</td>\n      <td>1.543875e+04</td>\n      <td>694.000000</td>\n      <td>196.000000</td>\n      <td>656.000000</td>\n      <td>3112.000000</td>\n      <td>5.405750e+03</td>\n      <td>5.334000e+03</td>\n    </tr>\n    <tr>\n      <th>50%</th>\n      <td>5000.50000</td>\n      <td>3.949655e+05</td>\n      <td>4.251235e+05</td>\n      <td>2.719524e+06</td>\n      <td>40.000000</td>\n      <td>9.780452e+12</td>\n      <td>2004.000000</td>\n      <td>4.020000</td>\n      <td>2.115550e+04</td>\n      <td>2.383250e+04</td>\n      <td>1402.000000</td>\n      <td>391.000000</td>\n      <td>1163.000000</td>\n      <td>4894.000000</td>\n      <td>8.269500e+03</td>\n      <td>8.836000e+03</td>\n    </tr>\n    <tr>\n      <th>75%</th>\n      <td>7500.25000</td>\n      <td>9.382225e+06</td>\n      <td>9.636112e+06</td>\n      <td>1.451775e+07</td>\n      <td>67.000000</td>\n      <td>9.780831e+12</td>\n      <td>2011.000000</td>\n      <td>4.180000</td>\n      <td>4.105350e+04</td>\n      <td>4.591500e+04</td>\n      <td>2744.250000</td>\n      <td>885.000000</td>\n      <td>2353.250000</td>\n      <td>9287.000000</td>\n      <td>1.602350e+04</td>\n      <td>1.730450e+04</td>\n    </tr>\n    <tr>\n      <th>max</th>\n      <td>10000.00000</td>\n      <td>3.328864e+07</td>\n      <td>3.553423e+07</td>\n      <td>5.639960e+07</td>\n      <td>3455.000000</td>\n      <td>9.790008e+12</td>\n      <td>2017.000000</td>\n      <td>4.820000</td>\n      <td>4.780653e+06</td>\n      <td>4.942365e+06</td>\n      <td>155254.000000</td>\n      <td>456191.000000</td>\n      <td>436802.000000</td>\n      <td>793319.000000</td>\n      <td>1.481305e+06</td>\n      <td>3.011543e+06</td>\n    </tr>\n  </tbody>\n</table>\n</div>"
     },
     "metadata": {},
     "execution_count": 5
    }
   ],
   "source": [
    "df_books.describe()"
   ]
  },
  {
   "cell_type": "code",
   "execution_count": 6,
   "metadata": {},
   "outputs": [],
   "source": [
    "#df_new_books = df_books[['book_id', 'isbn13', 'original_title']]\n",
    "#df_new_books.to_csv(r'books_lighter.csv', index = False)"
   ]
  },
  {
   "cell_type": "code",
   "execution_count": 7,
   "metadata": {},
   "outputs": [],
   "source": [
    "df_p = df_ratings.pivot(index = 'user_id', columns ='book_id', values = 'rating')\n",
    "df_p.head()"
   ]
  },
  {
   "cell_type": "code",
   "execution_count": null,
   "metadata": {},
   "outputs": [],
   "source": [
    "for i in range (1, 10001):\n",
    "    df_p[i] = df_p[i].replace(np.nan, 0)"
   ]
  },
  {
   "cell_type": "code",
   "execution_count": 3,
   "metadata": {},
   "outputs": [
    {
     "output_type": "error",
     "ename": "NameError",
     "evalue": "name 'df_p' is not defined",
     "traceback": [
      "\u001b[0;31m---------------------------------------------------------------------------\u001b[0m",
      "\u001b[0;31mNameError\u001b[0m                                 Traceback (most recent call last)",
      "\u001b[0;32m<ipython-input-3-821fb9670540>\u001b[0m in \u001b[0;36m<module>\u001b[0;34m\u001b[0m\n\u001b[0;32m----> 1\u001b[0;31m \u001b[0mdf_p\u001b[0m\u001b[0;34m.\u001b[0m\u001b[0mhead\u001b[0m\u001b[0;34m(\u001b[0m\u001b[0;36m5\u001b[0m\u001b[0;34m)\u001b[0m\u001b[0;34m\u001b[0m\u001b[0;34m\u001b[0m\u001b[0m\n\u001b[0m",
      "\u001b[0;31mNameError\u001b[0m: name 'df_p' is not defined"
     ]
    }
   ],
   "source": [
    "df_p.head(5)"
   ]
  },
  {
   "cell_type": "code",
   "execution_count": 1,
   "metadata": {},
   "outputs": [],
   "source": [
    "#df_p.columns = ['b_' + str(col) for col in df_p.columns]"
   ]
  },
  {
   "cell_type": "code",
   "execution_count": 2,
   "metadata": {},
   "outputs": [
    {
     "output_type": "error",
     "ename": "NameError",
     "evalue": "name 'df_p' is not defined",
     "traceback": [
      "\u001b[0;31m---------------------------------------------------------------------------\u001b[0m",
      "\u001b[0;31mNameError\u001b[0m                                 Traceback (most recent call last)",
      "\u001b[0;32m<ipython-input-2-f3661901b4c9>\u001b[0m in \u001b[0;36m<module>\u001b[0;34m\u001b[0m\n\u001b[0;32m----> 1\u001b[0;31m \u001b[0mdf_p\u001b[0m\u001b[0;34m.\u001b[0m\u001b[0mhead\u001b[0m\u001b[0;34m(\u001b[0m\u001b[0;34m)\u001b[0m\u001b[0;34m\u001b[0m\u001b[0;34m\u001b[0m\u001b[0m\n\u001b[0m",
      "\u001b[0;31mNameError\u001b[0m: name 'df_p' is not defined"
     ]
    }
   ],
   "source": [
    "df_p.head()"
   ]
  },
  {
   "source": [
    "## KNN"
   ],
   "cell_type": "markdown",
   "metadata": {}
  },
  {
   "cell_type": "code",
   "execution_count": 16,
   "metadata": {},
   "outputs": [],
   "source": [
    "# https://aman-makwana101932.medium.com/understanding-recommendation-system-and-knn-with-project-book-recommendation-system-c648e47ff4f6"
   ]
  },
  {
   "cell_type": "code",
   "execution_count": 22,
   "metadata": {},
   "outputs": [],
   "source": [
    "from scipy.sparse import csr_matrix\n",
    "\n",
    "sparse_matrix = csr_matrix(df_p.values)"
   ]
  },
  {
   "cell_type": "code",
   "execution_count": 23,
   "metadata": {},
   "outputs": [],
   "source": [
    "# save csr_matrix \n",
    "import scipy.sparse\n",
    "scipy.sparse.save_npz('sparse_matrix.npz', sparse_matrix)"
   ]
  },
  {
   "cell_type": "code",
   "execution_count": 24,
   "metadata": {},
   "outputs": [
    {
     "output_type": "execute_result",
     "data": {
      "text/plain": [
       "<53424x10000 sparse matrix of type '<class 'numpy.float64'>'\n",
       "\twith 5976479 stored elements in Compressed Sparse Row format>"
      ]
     },
     "metadata": {},
     "execution_count": 24
    }
   ],
   "source": [
    "mat_book_features"
   ]
  },
  {
   "cell_type": "code",
   "execution_count": 25,
   "metadata": {},
   "outputs": [],
   "source": [
    "from sklearn.neighbors import NearestNeighbors"
   ]
  },
  {
   "cell_type": "code",
   "execution_count": 26,
   "metadata": {},
   "outputs": [],
   "source": [
    "model_knn = NearestNeighbors(metric='cosine', algorithm='brute', n_neighbors=20, n_jobs=-1).fit(mat_book_features)"
   ]
  },
  {
   "source": [
    "## User recommendation"
   ],
   "cell_type": "markdown",
   "metadata": {}
  },
  {
   "cell_type": "code",
   "execution_count": 27,
   "metadata": {},
   "outputs": [
    {
     "output_type": "stream",
     "name": "stdout",
     "text": [
      "46510\n"
     ]
    }
   ],
   "source": [
    "data_distance = df_p\n",
    "\n",
    "query_index = np.random.choice(data_distance.shape[0])\n",
    "print(query_index)\n",
    "distances, indices = model_knn.kneighbors(data_distance.iloc[query_index,:].values.reshape(1, -1), n_neighbors = 4)"
   ]
  },
  {
   "cell_type": "code",
   "execution_count": 2,
   "metadata": {},
   "outputs": [
    {
     "output_type": "error",
     "ename": "NameError",
     "evalue": "name 'data_distance' is not defined",
     "traceback": [
      "\u001b[0;31m---------------------------------------------------------------------------\u001b[0m",
      "\u001b[0;31mNameError\u001b[0m                                 Traceback (most recent call last)",
      "\u001b[0;32m<ipython-input-2-1b3fed260803>\u001b[0m in \u001b[0;36m<module>\u001b[0;34m\u001b[0m\n\u001b[0;32m----> 1\u001b[0;31m \u001b[0muser_selected\u001b[0m \u001b[0;34m=\u001b[0m \u001b[0mdata_distance\u001b[0m\u001b[0;34m.\u001b[0m\u001b[0mindex\u001b[0m\u001b[0;34m[\u001b[0m\u001b[0mquery_index\u001b[0m\u001b[0;34m]\u001b[0m\u001b[0;34m\u001b[0m\u001b[0;34m\u001b[0m\u001b[0m\n\u001b[0m",
      "\u001b[0;31mNameError\u001b[0m: name 'data_distance' is not defined"
     ]
    }
   ],
   "source": [
    "user_selected = data_distance.index[query_index]"
   ]
  },
  {
   "cell_type": "code",
   "execution_count": 1,
   "metadata": {},
   "outputs": [
    {
     "output_type": "error",
     "ename": "NameError",
     "evalue": "name 'user_selected' is not defined",
     "traceback": [
      "\u001b[0;31m---------------------------------------------------------------------------\u001b[0m",
      "\u001b[0;31mNameError\u001b[0m                                 Traceback (most recent call last)",
      "\u001b[0;32m<ipython-input-1-fd3ff2b7c5db>\u001b[0m in \u001b[0;36m<module>\u001b[0;34m\u001b[0m\n\u001b[0;32m----> 1\u001b[0;31m \u001b[0mprint\u001b[0m\u001b[0;34m(\u001b[0m\u001b[0muser_selected\u001b[0m\u001b[0;34m)\u001b[0m\u001b[0;34m\u001b[0m\u001b[0;34m\u001b[0m\u001b[0m\n\u001b[0m",
      "\u001b[0;31mNameError\u001b[0m: name 'user_selected' is not defined"
     ]
    }
   ],
   "source": [
    "print(user_selected)"
   ]
  },
  {
   "cell_type": "code",
   "execution_count": 29,
   "metadata": {},
   "outputs": [
    {
     "output_type": "stream",
     "name": "stdout",
     "text": [
      "Nearest Neighbors for 46511:\n\n1: 13955, with distance of 0.6744548072825961:\n2: 48641, with distance of 0.6804665259334954:\n3: 32572, with distance of 0.6811956293673912:\n"
     ]
    }
   ],
   "source": [
    "df_result = df_p.iloc[0:0]\n",
    "\n",
    "for i in range(0, len(distances.flatten())):\n",
    "    if i == 0:\n",
    "        print('Nearest Neighbors for {0}:\\n'.format(data_distance.index[query_index]))\n",
    "        data_dis = data_distance.iloc[indices.flatten()[i]]\n",
    "        #df_result = df_result.append(data_distance.index[query_index])\n",
    "        \n",
    "    else:\n",
    "        print('{0}: {1}, with distance of {2}:'.format(i, data_distance.index[indices.flatten()[i]], distances.flatten()[i]))\n",
    "        #print('Recommendations for {0}:\\n'.format(us_canada_user_rating_pivot.index[indices.flatten()[i]].columns))\n",
    "        data_dis = data_distance.iloc[indices.flatten()[i]]\n",
    "        #print(test)\n",
    "    df_result = df_result.append(data_dis)"
   ]
  },
  {
   "cell_type": "code",
   "execution_count": null,
   "metadata": {},
   "outputs": [],
   "source": [
    "df_book_name = df_books[['book_id', 'original_title']]\n",
    "df_book_name.head(3)"
   ]
  },
  {
   "cell_type": "code",
   "execution_count": null,
   "metadata": {},
   "outputs": [],
   "source": [
    "\n",
    "df_result = df_result.loc[:, (df_result != 0).any(axis=0)]"
   ]
  },
  {
   "cell_type": "code",
   "execution_count": null,
   "metadata": {},
   "outputs": [],
   "source": [
    "df_result.loc[:, (df_result != 0).any(axis=0)]"
   ]
  },
  {
   "cell_type": "code",
   "execution_count": 1,
   "metadata": {},
   "outputs": [
    {
     "output_type": "error",
     "ename": "NameError",
     "evalue": "name 'df_result' is not defined",
     "traceback": [
      "\u001b[0;31m---------------------------------------------------------------------------\u001b[0m",
      "\u001b[0;31mNameError\u001b[0m                                 Traceback (most recent call last)",
      "\u001b[0;32m<ipython-input-1-eb7910c90637>\u001b[0m in \u001b[0;36m<module>\u001b[0;34m\u001b[0m\n\u001b[0;32m----> 1\u001b[0;31m \u001b[0mdf_result_t\u001b[0m \u001b[0;34m=\u001b[0m \u001b[0mdf_result\u001b[0m\u001b[0;34m.\u001b[0m\u001b[0mT\u001b[0m\u001b[0;34m\u001b[0m\u001b[0;34m\u001b[0m\u001b[0m\n\u001b[0m",
      "\u001b[0;31mNameError\u001b[0m: name 'df_result' is not defined"
     ]
    }
   ],
   "source": [
    "df_result_t = df_result.T"
   ]
  },
  {
   "cell_type": "code",
   "execution_count": 136,
   "metadata": {},
   "outputs": [
    {
     "output_type": "execute_result",
     "data": {
      "text/plain": [
       "user_id  52370  49818  52603  42432\n",
       "book_id                            \n",
       "1          0.0    0.0    4.0    0.0\n",
       "2          0.0    5.0    0.0    0.0\n",
       "3          0.0    0.0    5.0    0.0\n",
       "6          0.0    5.0    5.0    0.0\n",
       "12         0.0    5.0    5.0    0.0\n",
       "...        ...    ...    ...    ...\n",
       "9807       4.0    0.0    0.0    0.0\n",
       "9816       4.0    0.0    0.0    0.0\n",
       "9893       0.0    3.0    0.0    0.0\n",
       "9897       0.0    0.0    0.0    4.0\n",
       "9955       3.0    0.0    0.0    0.0\n",
       "\n",
       "[244 rows x 4 columns]"
      ],
      "text/html": "<div>\n<style scoped>\n    .dataframe tbody tr th:only-of-type {\n        vertical-align: middle;\n    }\n\n    .dataframe tbody tr th {\n        vertical-align: top;\n    }\n\n    .dataframe thead th {\n        text-align: right;\n    }\n</style>\n<table border=\"1\" class=\"dataframe\">\n  <thead>\n    <tr style=\"text-align: right;\">\n      <th>user_id</th>\n      <th>52370</th>\n      <th>49818</th>\n      <th>52603</th>\n      <th>42432</th>\n    </tr>\n    <tr>\n      <th>book_id</th>\n      <th></th>\n      <th></th>\n      <th></th>\n      <th></th>\n    </tr>\n  </thead>\n  <tbody>\n    <tr>\n      <th>1</th>\n      <td>0.0</td>\n      <td>0.0</td>\n      <td>4.0</td>\n      <td>0.0</td>\n    </tr>\n    <tr>\n      <th>2</th>\n      <td>0.0</td>\n      <td>5.0</td>\n      <td>0.0</td>\n      <td>0.0</td>\n    </tr>\n    <tr>\n      <th>3</th>\n      <td>0.0</td>\n      <td>0.0</td>\n      <td>5.0</td>\n      <td>0.0</td>\n    </tr>\n    <tr>\n      <th>6</th>\n      <td>0.0</td>\n      <td>5.0</td>\n      <td>5.0</td>\n      <td>0.0</td>\n    </tr>\n    <tr>\n      <th>12</th>\n      <td>0.0</td>\n      <td>5.0</td>\n      <td>5.0</td>\n      <td>0.0</td>\n    </tr>\n    <tr>\n      <th>...</th>\n      <td>...</td>\n      <td>...</td>\n      <td>...</td>\n      <td>...</td>\n    </tr>\n    <tr>\n      <th>9807</th>\n      <td>4.0</td>\n      <td>0.0</td>\n      <td>0.0</td>\n      <td>0.0</td>\n    </tr>\n    <tr>\n      <th>9816</th>\n      <td>4.0</td>\n      <td>0.0</td>\n      <td>0.0</td>\n      <td>0.0</td>\n    </tr>\n    <tr>\n      <th>9893</th>\n      <td>0.0</td>\n      <td>3.0</td>\n      <td>0.0</td>\n      <td>0.0</td>\n    </tr>\n    <tr>\n      <th>9897</th>\n      <td>0.0</td>\n      <td>0.0</td>\n      <td>0.0</td>\n      <td>4.0</td>\n    </tr>\n    <tr>\n      <th>9955</th>\n      <td>3.0</td>\n      <td>0.0</td>\n      <td>0.0</td>\n      <td>0.0</td>\n    </tr>\n  </tbody>\n</table>\n<p>244 rows × 4 columns</p>\n</div>"
     },
     "metadata": {},
     "execution_count": 136
    }
   ],
   "source": [
    "df_result_t"
   ]
  },
  {
   "cell_type": "code",
   "execution_count": 137,
   "metadata": {},
   "outputs": [
    {
     "output_type": "execute_result",
     "data": {
      "text/plain": [
       "user_id       52370       49818       52603       42432\n",
       "count    244.000000  244.000000  244.000000  244.000000\n",
       "mean       0.905738    1.430328    1.602459    1.713115\n",
       "std        1.626468    2.086421    2.124169    1.930818\n",
       "min        0.000000    0.000000    0.000000    0.000000\n",
       "25%        0.000000    0.000000    0.000000    0.000000\n",
       "50%        0.000000    0.000000    0.000000    0.000000\n",
       "75%        1.250000    4.000000    4.000000    4.000000\n",
       "max        5.000000    5.000000    5.000000    5.000000"
      ],
      "text/html": "<div>\n<style scoped>\n    .dataframe tbody tr th:only-of-type {\n        vertical-align: middle;\n    }\n\n    .dataframe tbody tr th {\n        vertical-align: top;\n    }\n\n    .dataframe thead th {\n        text-align: right;\n    }\n</style>\n<table border=\"1\" class=\"dataframe\">\n  <thead>\n    <tr style=\"text-align: right;\">\n      <th>user_id</th>\n      <th>52370</th>\n      <th>49818</th>\n      <th>52603</th>\n      <th>42432</th>\n    </tr>\n  </thead>\n  <tbody>\n    <tr>\n      <th>count</th>\n      <td>244.000000</td>\n      <td>244.000000</td>\n      <td>244.000000</td>\n      <td>244.000000</td>\n    </tr>\n    <tr>\n      <th>mean</th>\n      <td>0.905738</td>\n      <td>1.430328</td>\n      <td>1.602459</td>\n      <td>1.713115</td>\n    </tr>\n    <tr>\n      <th>std</th>\n      <td>1.626468</td>\n      <td>2.086421</td>\n      <td>2.124169</td>\n      <td>1.930818</td>\n    </tr>\n    <tr>\n      <th>min</th>\n      <td>0.000000</td>\n      <td>0.000000</td>\n      <td>0.000000</td>\n      <td>0.000000</td>\n    </tr>\n    <tr>\n      <th>25%</th>\n      <td>0.000000</td>\n      <td>0.000000</td>\n      <td>0.000000</td>\n      <td>0.000000</td>\n    </tr>\n    <tr>\n      <th>50%</th>\n      <td>0.000000</td>\n      <td>0.000000</td>\n      <td>0.000000</td>\n      <td>0.000000</td>\n    </tr>\n    <tr>\n      <th>75%</th>\n      <td>1.250000</td>\n      <td>4.000000</td>\n      <td>4.000000</td>\n      <td>4.000000</td>\n    </tr>\n    <tr>\n      <th>max</th>\n      <td>5.000000</td>\n      <td>5.000000</td>\n      <td>5.000000</td>\n      <td>5.000000</td>\n    </tr>\n  </tbody>\n</table>\n</div>"
     },
     "metadata": {},
     "execution_count": 137
    }
   ],
   "source": [
    "df_result_t.describe()"
   ]
  },
  {
   "cell_type": "code",
   "execution_count": 164,
   "metadata": {},
   "outputs": [
    {
     "output_type": "execute_result",
     "data": {
      "text/plain": [
       "     49818  52603  42432                            original_title\n",
       "0      0.0    4.0    0.0                          The Hunger Games\n",
       "1      5.0    0.0    0.0  Harry Potter and the Philosopher's Stone\n",
       "2      0.0    5.0    0.0                                  Twilight\n",
       "3      5.0    5.0    0.0                    The Fault in Our Stars\n",
       "4      5.0    5.0    0.0                                 Divergent\n",
       "..     ...    ...    ...                                       ...\n",
       "233    2.0    0.0    0.0              My Life with the Walter Boys\n",
       "234    0.0    5.0    0.0                           A Grimm Warning\n",
       "237    0.0    0.0    4.0                                  Mad Dogs\n",
       "241    3.0    0.0    0.0                          Open Road Summer\n",
       "242    0.0    0.0    4.0                            Divine Madness\n",
       "\n",
       "[182 rows x 4 columns]"
      ],
      "text/html": "<div>\n<style scoped>\n    .dataframe tbody tr th:only-of-type {\n        vertical-align: middle;\n    }\n\n    .dataframe tbody tr th {\n        vertical-align: top;\n    }\n\n    .dataframe thead th {\n        text-align: right;\n    }\n</style>\n<table border=\"1\" class=\"dataframe\">\n  <thead>\n    <tr style=\"text-align: right;\">\n      <th></th>\n      <th>49818</th>\n      <th>52603</th>\n      <th>42432</th>\n      <th>original_title</th>\n    </tr>\n  </thead>\n  <tbody>\n    <tr>\n      <th>0</th>\n      <td>0.0</td>\n      <td>4.0</td>\n      <td>0.0</td>\n      <td>The Hunger Games</td>\n    </tr>\n    <tr>\n      <th>1</th>\n      <td>5.0</td>\n      <td>0.0</td>\n      <td>0.0</td>\n      <td>Harry Potter and the Philosopher's Stone</td>\n    </tr>\n    <tr>\n      <th>2</th>\n      <td>0.0</td>\n      <td>5.0</td>\n      <td>0.0</td>\n      <td>Twilight</td>\n    </tr>\n    <tr>\n      <th>3</th>\n      <td>5.0</td>\n      <td>5.0</td>\n      <td>0.0</td>\n      <td>The Fault in Our Stars</td>\n    </tr>\n    <tr>\n      <th>4</th>\n      <td>5.0</td>\n      <td>5.0</td>\n      <td>0.0</td>\n      <td>Divergent</td>\n    </tr>\n    <tr>\n      <th>...</th>\n      <td>...</td>\n      <td>...</td>\n      <td>...</td>\n      <td>...</td>\n    </tr>\n    <tr>\n      <th>233</th>\n      <td>2.0</td>\n      <td>0.0</td>\n      <td>0.0</td>\n      <td>My Life with the Walter Boys</td>\n    </tr>\n    <tr>\n      <th>234</th>\n      <td>0.0</td>\n      <td>5.0</td>\n      <td>0.0</td>\n      <td>A Grimm Warning</td>\n    </tr>\n    <tr>\n      <th>237</th>\n      <td>0.0</td>\n      <td>0.0</td>\n      <td>4.0</td>\n      <td>Mad Dogs</td>\n    </tr>\n    <tr>\n      <th>241</th>\n      <td>3.0</td>\n      <td>0.0</td>\n      <td>0.0</td>\n      <td>Open Road Summer</td>\n    </tr>\n    <tr>\n      <th>242</th>\n      <td>0.0</td>\n      <td>0.0</td>\n      <td>4.0</td>\n      <td>Divine Madness</td>\n    </tr>\n  </tbody>\n</table>\n<p>182 rows × 4 columns</p>\n</div>"
     },
     "metadata": {},
     "execution_count": 164
    }
   ],
   "source": [
    "df_result_name = pd.merge(df_result_t, df_book_name, left_on='book_id', right_on='book_id', how='left')\n",
    "\n",
    "# select book who doesn't have rating by our user selected\n",
    "# I creat a df withe first colums have 0\n",
    "\n",
    "df_result_name = df_result_name.loc[df_result_name[user_selected] == 0]\n",
    "\n",
    "# Remove the first column id\n",
    "df_result_name = df_result_name.iloc[:,1:]\n",
    "\n",
    "# Remove the column user_selected \n",
    "df_result_name = df_result_name.iloc[:,1:]\n",
    "\n",
    "df_result_name\n"
   ]
  },
  {
   "cell_type": "code",
   "execution_count": 237,
   "metadata": {},
   "outputs": [
    {
     "output_type": "execute_result",
     "data": {
      "text/plain": [
       "3"
      ]
     },
     "metadata": {},
     "execution_count": 237
    }
   ],
   "source": [
    "columns_list = df_result_name.columns.values.tolist()\n",
    "columns_list = columns_list[:-1]\n",
    "\n",
    "columns_list_count = len(columns_list)\n",
    "columns_list_count"
   ]
  },
  {
   "cell_type": "code",
   "execution_count": 243,
   "metadata": {
    "tags": []
   },
   "outputs": [
    {
     "output_type": "stream",
     "name": "stdout",
     "text": [
      "Voila! here are the next books to read : ['Perfect Chemistry', \"It's Not Summer Without You\", \"The Assassin's Blade\", 'Slammed', 'The Host', 'Ignite Me (Shatter Me, #3)', 'City of Glass', 'milk and honey', 'Mistborn : The Final Empire']\n"
     ]
    }
   ],
   "source": [
    "# get the count of columns\n",
    "columns_count = len(df_result_name.columns)\n",
    "\n",
    "# columns -1 without book name\n",
    "columns_count = 1 \n",
    "\n",
    "# creat list for each user \n",
    "\n",
    "\n",
    "recommendation_list = []\n",
    "\n",
    "index_list = 0\n",
    "\n",
    "\n",
    "# loop on columns for each list of book recommendation\n",
    "for index in [0, 1, 2]:\n",
    "    for col in columns_list:\n",
    "        #init col_to_list\n",
    "        col_to_list = []\n",
    "\n",
    "        # order the df by high value on current column\n",
    "        df_temp = df_result_name.sort_values(by=[col], ascending=False)\n",
    "\n",
    "        # transform current col into list\n",
    "        col_to_list = df_temp['original_title'].values.tolist()\n",
    "        \n",
    "\n",
    "        #add the current col at the current index to the result list recommendation\n",
    "        recommendation_list.append(col_to_list[index])\n",
    "\n",
    "\n",
    "print(\"Voila! here are the next books to read :\", recommendation_list)"
   ]
  },
  {
   "cell_type": "code",
   "execution_count": 216,
   "metadata": {},
   "outputs": [
    {
     "output_type": "execute_result",
     "data": {
      "text/plain": [
       "     49818  52603  42432                            original_title\n",
       "0      0.0    4.0    0.0                          The Hunger Games\n",
       "1      5.0    0.0    0.0  Harry Potter and the Philosopher's Stone\n",
       "2      0.0    5.0    0.0                                  Twilight\n",
       "3      5.0    5.0    0.0                    The Fault in Our Stars\n",
       "4      5.0    5.0    0.0                                 Divergent\n",
       "..     ...    ...    ...                                       ...\n",
       "233    2.0    0.0    0.0              My Life with the Walter Boys\n",
       "234    0.0    5.0    0.0                           A Grimm Warning\n",
       "237    0.0    0.0    4.0                                  Mad Dogs\n",
       "241    3.0    0.0    0.0                          Open Road Summer\n",
       "242    0.0    0.0    4.0                            Divine Madness\n",
       "\n",
       "[182 rows x 4 columns]"
      ],
      "text/html": "<div>\n<style scoped>\n    .dataframe tbody tr th:only-of-type {\n        vertical-align: middle;\n    }\n\n    .dataframe tbody tr th {\n        vertical-align: top;\n    }\n\n    .dataframe thead th {\n        text-align: right;\n    }\n</style>\n<table border=\"1\" class=\"dataframe\">\n  <thead>\n    <tr style=\"text-align: right;\">\n      <th></th>\n      <th>49818</th>\n      <th>52603</th>\n      <th>42432</th>\n      <th>original_title</th>\n    </tr>\n  </thead>\n  <tbody>\n    <tr>\n      <th>0</th>\n      <td>0.0</td>\n      <td>4.0</td>\n      <td>0.0</td>\n      <td>The Hunger Games</td>\n    </tr>\n    <tr>\n      <th>1</th>\n      <td>5.0</td>\n      <td>0.0</td>\n      <td>0.0</td>\n      <td>Harry Potter and the Philosopher's Stone</td>\n    </tr>\n    <tr>\n      <th>2</th>\n      <td>0.0</td>\n      <td>5.0</td>\n      <td>0.0</td>\n      <td>Twilight</td>\n    </tr>\n    <tr>\n      <th>3</th>\n      <td>5.0</td>\n      <td>5.0</td>\n      <td>0.0</td>\n      <td>The Fault in Our Stars</td>\n    </tr>\n    <tr>\n      <th>4</th>\n      <td>5.0</td>\n      <td>5.0</td>\n      <td>0.0</td>\n      <td>Divergent</td>\n    </tr>\n    <tr>\n      <th>...</th>\n      <td>...</td>\n      <td>...</td>\n      <td>...</td>\n      <td>...</td>\n    </tr>\n    <tr>\n      <th>233</th>\n      <td>2.0</td>\n      <td>0.0</td>\n      <td>0.0</td>\n      <td>My Life with the Walter Boys</td>\n    </tr>\n    <tr>\n      <th>234</th>\n      <td>0.0</td>\n      <td>5.0</td>\n      <td>0.0</td>\n      <td>A Grimm Warning</td>\n    </tr>\n    <tr>\n      <th>237</th>\n      <td>0.0</td>\n      <td>0.0</td>\n      <td>4.0</td>\n      <td>Mad Dogs</td>\n    </tr>\n    <tr>\n      <th>241</th>\n      <td>3.0</td>\n      <td>0.0</td>\n      <td>0.0</td>\n      <td>Open Road Summer</td>\n    </tr>\n    <tr>\n      <th>242</th>\n      <td>0.0</td>\n      <td>0.0</td>\n      <td>4.0</td>\n      <td>Divine Madness</td>\n    </tr>\n  </tbody>\n</table>\n<p>182 rows × 4 columns</p>\n</div>"
     },
     "metadata": {},
     "execution_count": 216
    }
   ],
   "source": [
    "df_result_name"
   ]
  },
  {
   "cell_type": "code",
   "execution_count": 217,
   "metadata": {},
   "outputs": [],
   "source": [
    "# S A V E \n",
    "#\n",
    "#test_18745 = df_result_name.loc[df_result_name[48404] >= 4]\n",
    "#\n",
    "#\n"
   ]
  },
  {
   "cell_type": "code",
   "execution_count": 47,
   "metadata": {},
   "outputs": [
    {
     "output_type": "stream",
     "name": "stdout",
     "text": [
      "170                                    Stone of Farewell\n87                              Red Seas Under Red Skies\n119                                          Ghost Story\n183    To Green Angel Tower (Memory, Sorrow, and Thor...\n10                                     A Game of Thrones\n151                                 His Majesty's Dragon\n190                                       Throne of Jade\n191                                        The Confusion\n99                                           White Night\n140                                    Ancillary Justice\n194                                      Hark! A Vagrant\n195                                 The Curse of Chalion\n180                                    The Black Company\n80                                          Dragonflight\n73                                                   NaN\n179                                                  NaN\n172                                          Quicksilver\n207                                     Black Powder War\n62                              The Lies of Locke Lamora\n144                                 The Dragonbone Chair\nName: original_title, dtype: object\n\n\n170                                    Stone of Farewell\n87                              Red Seas Under Red Skies\n119                                          Ghost Story\n183    To Green Angel Tower (Memory, Sorrow, and Thor...\n10                                     A Game of Thrones\n151                                 His Majesty's Dragon\n190                                       Throne of Jade\n191                                        The Confusion\n99                                           White Night\n140                                    Ancillary Justice\n194                                      Hark! A Vagrant\n195                                 The Curse of Chalion\n180                                    The Black Company\n80                                          Dragonflight\n73                                                   NaN\n179                                                  NaN\n172                                          Quicksilver\n207                                     Black Powder War\n62                              The Lies of Locke Lamora\n144                                 The Dragonbone Chair\nName: original_title, dtype: object\n\n\n170                                    Stone of Farewell\n87                              Red Seas Under Red Skies\n119                                          Ghost Story\n183    To Green Angel Tower (Memory, Sorrow, and Thor...\n10                                     A Game of Thrones\n151                                 His Majesty's Dragon\n190                                       Throne of Jade\n191                                        The Confusion\n99                                           White Night\n140                                    Ancillary Justice\n194                                      Hark! A Vagrant\n195                                 The Curse of Chalion\n180                                    The Black Company\n80                                          Dragonflight\n73                                                   NaN\n179                                                  NaN\n172                                          Quicksilver\n207                                     Black Powder War\n62                              The Lies of Locke Lamora\n144                                 The Dragonbone Chair\nName: original_title, dtype: object\n"
     ]
    }
   ],
   "source": [
    "var_a = df_result_name.loc[df_result_name[48404] >= 4]\n",
    "var_a = test.sort_values(by=[48404], ascending=False)[:20]\n",
    "\n",
    "var_b = df_result_name.loc[df_result_name[15850] >= 4]\n",
    "var_b = test.sort_values(by=[15850], ascending=False)[:20]\n",
    "\n",
    "var_c = df_result_name.loc[df_result_name[23731] >= 4]\n",
    "var_c = test.sort_values(by=[23731], ascending=False)[:20]\n",
    "\n",
    "print(var_a['original_title'])\n",
    "print('\\n')\n",
    "print(var_a['original_title'])\n",
    "print('\\n')\n",
    "print(var_a['original_title'])"
   ]
  },
  {
   "source": [
    "test_user_origine = test_18745.sort_values(by=[25606], ascending=False)[:20].values.tolist()\n",
    "\n",
    "#test_18745 = test_18745[test_18745['book_id', 'original_title']]\n",
    "test_user_origine['original_title']"
   ],
   "cell_type": "markdown",
   "metadata": {}
  },
  {
   "cell_type": "code",
   "execution_count": null,
   "metadata": {},
   "outputs": [],
   "source": [
    "import matplotlib.pyplot as plt\n",
    "import seaborn as sns\n",
    "#plt.scatter(df_result_t['book_id'], df_result_t[11132], c=df_result_t[11132], alpha=0.5)\n",
    "#plt.figure(figsize=(20,10))\n",
    "#ax = df_result_t.plot(xticks=df_result_t.index, figsize=(20,10))\n",
    "\n",
    "#df_result_t = df_result_t[df_result_t.columns > 0]\n",
    "\n",
    "plt.figure(figsize=(18,12))\n",
    "\n",
    "for i in df_result_t.columns:\n",
    "    ax = sns.scatterplot(data=df_result_t, x=df_result_t.index, y=i, alpha=0.5, s=200)\n",
    "\n",
    "#ax = sns.scatterplot(data=df_result_t, x=df_result_t.index, y=11132)"
   ]
  },
  {
   "cell_type": "code",
   "execution_count": null,
   "metadata": {},
   "outputs": [],
   "source": [
    "\n",
    "\n",
    "def plot_correlation(data):\n",
    "    '''\n",
    "    plot correlation's matrix to explore dependency between features \n",
    "    '''\n",
    "    # init figure size\n",
    "    # rcParams['figure.figsize'] = 15, 20\n",
    "    fig = plt.figure(figsize=(20,10))\n",
    "    sns.heatmap(data.corr(), annot=True, fmt=\".2f\")\n",
    "    plt.show()\n",
    "\n",
    "#plot_correlation(df_result_t)\n",
    "\n",
    "sns.heatmap(df_result_t, annot=True, fmt=\".1f\")\n",
    "plt.show()"
   ]
  },
  {
   "source": [
    "## Book recommendation"
   ],
   "cell_type": "markdown",
   "metadata": {}
  },
  {
   "cell_type": "code",
   "execution_count": null,
   "metadata": {},
   "outputs": [],
   "source": [
    "#df_b_reco = df_p.pivot(index = 'book_id', columns ='user_id', values = 'rating')\n",
    "\n",
    "#df_b_reco.head()"
   ]
  },
  {
   "cell_type": "code",
   "execution_count": null,
   "metadata": {},
   "outputs": [],
   "source": [
    "User 90 = [book_25, book_45, book_203]\n",
    "\n",
    "- k N N - \n",
    "\n",
    "User 1 = [book_25]\n",
    "User 47 = [book_45]\n",
    "User 56 = [book_203]\n",
    "\n",
    "AVG knn user\n",
    "\n",
    "JMB_data / (SVD) \n",
    "\n",
    "book_25 = [book_25, book_13, book_05]\n",
    "book_45 = [book_15, book_13, book_05]\n",
    "book_203 = [book_15, book_13, book_05]\n",
    "\n",
    "AVG book JMB_data"
   ]
  },
  {
   "cell_type": "code",
   "execution_count": null,
   "metadata": {},
   "outputs": [],
   "source": []
  }
 ]
}