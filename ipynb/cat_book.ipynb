{
 "metadata": {
  "language_info": {
   "codemirror_mode": {
    "name": "ipython",
    "version": 3
   },
   "file_extension": ".py",
   "mimetype": "text/x-python",
   "name": "python",
   "nbconvert_exporter": "python",
   "pygments_lexer": "ipython3",
   "version": "3.8.5"
  },
  "orig_nbformat": 2,
  "kernelspec": {
   "name": "python3",
   "display_name": "Python 3",
   "language": "python"
  }
 },
 "nbformat": 4,
 "nbformat_minor": 2,
 "cells": [
  {
   "cell_type": "code",
   "execution_count": 1,
   "metadata": {},
   "outputs": [],
   "source": [
    "import pandas as pd\n",
    "import numpy as np"
   ]
  },
  {
   "cell_type": "code",
   "execution_count": 2,
   "metadata": {},
   "outputs": [],
   "source": [
    "df = pd.read_csv('/home/quentin/Documents/simplon/20210406_moteur_de_recommandation_de_livre/source/goodbooks-10k-master/book_tags.csv', index_col=False)"
   ]
  },
  {
   "cell_type": "code",
   "execution_count": 16,
   "metadata": {},
   "outputs": [
    {
     "output_type": "execute_result",
     "data": {
      "text/plain": [
       "        goodreads_book_id  tag_id   count\n",
       "0                       1   30574  167697\n",
       "1                       1   11305   37174\n",
       "100                     2   30574   24549\n",
       "101                     2    8717    3516\n",
       "200                     3   30574  496107\n",
       "...                   ...     ...     ...\n",
       "999613           32075671   33114    2010\n",
       "999712           32848471   30574     102\n",
       "999713           32848471   12680      80\n",
       "999812           33288638   30574   14116\n",
       "999813           33288638    8717    1196\n",
       "\n",
       "[20000 rows x 3 columns]"
      ],
      "text/html": "<div>\n<style scoped>\n    .dataframe tbody tr th:only-of-type {\n        vertical-align: middle;\n    }\n\n    .dataframe tbody tr th {\n        vertical-align: top;\n    }\n\n    .dataframe thead th {\n        text-align: right;\n    }\n</style>\n<table border=\"1\" class=\"dataframe\">\n  <thead>\n    <tr style=\"text-align: right;\">\n      <th></th>\n      <th>goodreads_book_id</th>\n      <th>tag_id</th>\n      <th>count</th>\n    </tr>\n  </thead>\n  <tbody>\n    <tr>\n      <th>0</th>\n      <td>1</td>\n      <td>30574</td>\n      <td>167697</td>\n    </tr>\n    <tr>\n      <th>1</th>\n      <td>1</td>\n      <td>11305</td>\n      <td>37174</td>\n    </tr>\n    <tr>\n      <th>100</th>\n      <td>2</td>\n      <td>30574</td>\n      <td>24549</td>\n    </tr>\n    <tr>\n      <th>101</th>\n      <td>2</td>\n      <td>8717</td>\n      <td>3516</td>\n    </tr>\n    <tr>\n      <th>200</th>\n      <td>3</td>\n      <td>30574</td>\n      <td>496107</td>\n    </tr>\n    <tr>\n      <th>...</th>\n      <td>...</td>\n      <td>...</td>\n      <td>...</td>\n    </tr>\n    <tr>\n      <th>999613</th>\n      <td>32075671</td>\n      <td>33114</td>\n      <td>2010</td>\n    </tr>\n    <tr>\n      <th>999712</th>\n      <td>32848471</td>\n      <td>30574</td>\n      <td>102</td>\n    </tr>\n    <tr>\n      <th>999713</th>\n      <td>32848471</td>\n      <td>12680</td>\n      <td>80</td>\n    </tr>\n    <tr>\n      <th>999812</th>\n      <td>33288638</td>\n      <td>30574</td>\n      <td>14116</td>\n    </tr>\n    <tr>\n      <th>999813</th>\n      <td>33288638</td>\n      <td>8717</td>\n      <td>1196</td>\n    </tr>\n  </tbody>\n</table>\n<p>20000 rows × 3 columns</p>\n</div>"
     },
     "metadata": {},
     "execution_count": 16
    }
   ],
   "source": [
    "df.groupby('goodreads_book_id').head(2)"
   ]
  },
  {
   "cell_type": "code",
   "execution_count": null,
   "metadata": {},
   "outputs": [],
   "source": []
  }
 ]
}