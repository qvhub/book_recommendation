{
 "cells": [
  {
   "cell_type": "code",
   "execution_count": 2,
   "metadata": {},
   "outputs": [],
   "source": [
    "# Import libraries\n",
    "import numpy as np\n",
    "import pandas as pd\n",
    "\n",
    "import os\n",
    "\n",
    "from scipy.sparse import csr_matrix, csc_matrix\n",
    "import scipy.sparse as sparse\n",
    "\n",
    "from scipy.sparse.linalg import svds\n",
    "from scipy.linalg import sqrtm\n",
    "\n",
    "import joblib\n",
    "\n",
    "#ratings = pd.read_csv('/home/quentin/Documents/simplon/20210406_moteur_de_recommandation_de_livre/source/goodbooks-10k-master/ratings.csv', index_col=False)"
   ]
  },
  {
   "cell_type": "code",
   "execution_count": null,
   "metadata": {},
   "outputs": [],
   "source": [
    "n_users = ratings.user_id.unique().shape[0]\n",
    "n_book = ratings.book_id.unique().shape[0]\n",
    "print ('Number of users = ' + str(n_users) + ' | Number of books = ' + str(n_book))\n",
    "\n",
    "print(n_users, n_book)"
   ]
  },
  {
   "cell_type": "code",
   "execution_count": null,
   "metadata": {},
   "outputs": [],
   "source": [
    "id_users = ratings.user_id.unique()\n",
    "id_book = ratings.book_id.unique()\n",
    "print ('id of users = ' + str(n_users) + ' | id of books = ' + str(n_book))"
   ]
  },
  {
   "cell_type": "code",
   "execution_count": null,
   "metadata": {},
   "outputs": [],
   "source": [
    "#Ratings = ratings.pivot(index = 'user_id', columns ='book_id', values = 'rating').fillna(0)\n",
    "#Ratings.head()"
   ]
  },
  {
   "cell_type": "code",
   "execution_count": 3,
   "metadata": {},
   "outputs": [
    {
     "name": "stdout",
     "output_type": "stream",
     "text": [
      "<class 'scipy.sparse.csr.csr_matrix'>\n"
     ]
    }
   ],
   "source": [
    "Ratings = sparse.load_npz('/home/quentin/Documents/simplon/20210406_moteur_de_recommandation_de_livre/training/sparse_matrix.npz')\n",
    "print(type(Ratings))"
   ]
  },
  {
   "cell_type": "code",
   "execution_count": 4,
   "metadata": {},
   "outputs": [
    {
     "name": "stdout",
     "output_type": "stream",
     "text": [
      "  (0, 3)\t5.0\n",
      "  (0, 9)\t4.0\n",
      "  (0, 10)\t5.0\n",
      "  (0, 12)\t4.0\n",
      "  (0, 15)\t3.0\n",
      "  (0, 21)\t3.0\n",
      "  (0, 30)\t4.0\n",
      "  (0, 31)\t4.0\n",
      "  (0, 32)\t4.0\n",
      "  (0, 34)\t5.0\n",
      "  (0, 35)\t4.0\n",
      "  (0, 37)\t2.0\n",
      "  (0, 39)\t2.0\n",
      "  (0, 41)\t3.0\n",
      "  (0, 42)\t4.0\n",
      "  (0, 44)\t5.0\n",
      "  (0, 45)\t4.0\n",
      "  (0, 46)\t3.0\n",
      "  (0, 53)\t3.0\n",
      "  (0, 56)\t3.0\n",
      "  (0, 59)\t3.0\n",
      "  (0, 65)\t4.0\n",
      "  (0, 66)\t3.0\n",
      "  (0, 69)\t5.0\n",
      "  (0, 71)\t3.0\n",
      "  :\t:\n",
      "  (53423, 3564)\t4.0\n",
      "  (53423, 3601)\t5.0\n",
      "  (53423, 3638)\t4.0\n",
      "  (53423, 3714)\t4.0\n",
      "  (53423, 4002)\t4.0\n",
      "  (53423, 4195)\t4.0\n",
      "  (53423, 4213)\t5.0\n",
      "  (53423, 4276)\t4.0\n",
      "  (53423, 4482)\t5.0\n",
      "  (53423, 4644)\t5.0\n",
      "  (53423, 5300)\t5.0\n",
      "  (53423, 5499)\t4.0\n",
      "  (53423, 5716)\t5.0\n",
      "  (53423, 5987)\t4.0\n",
      "  (53423, 6454)\t4.0\n",
      "  (53423, 7211)\t4.0\n",
      "  (53423, 7502)\t4.0\n",
      "  (53423, 7832)\t4.0\n",
      "  (53423, 8212)\t4.0\n",
      "  (53423, 8261)\t4.0\n",
      "  (53423, 8608)\t4.0\n",
      "  (53423, 8725)\t4.0\n",
      "  (53423, 8968)\t5.0\n",
      "  (53423, 9254)\t4.0\n",
      "  (53423, 9848)\t4.0\n"
     ]
    }
   ],
   "source": [
    "print(Ratings)"
   ]
  },
  {
   "cell_type": "code",
   "execution_count": null,
   "metadata": {},
   "outputs": [],
   "source": [
    "Ratings.shape"
   ]
  },
  {
   "cell_type": "code",
   "execution_count": null,
   "metadata": {},
   "outputs": [],
   "source": [
    "(np.prod(Ratings.shape)*8)/1000000000"
   ]
  },
  {
   "cell_type": "code",
   "execution_count": 4,
   "metadata": {},
   "outputs": [],
   "source": [
    "user_ratings_mean = np.mean(Ratings, axis = 1)\n",
    "user_ratings_mean_r = user_ratings_mean.reshape(-1, 1)\n",
    "user_ratings_mean_r = csr_matrix(user_ratings_mean_r)"
   ]
  },
  {
   "cell_type": "markdown",
   "metadata": {},
   "source": []
  },
  {
   "cell_type": "code",
   "execution_count": 6,
   "metadata": {},
   "outputs": [
    {
     "data": {
      "text/plain": [
       "(53424, 1)"
      ]
     },
     "execution_count": 6,
     "metadata": {},
     "output_type": "execute_result"
    }
   ],
   "source": [
    "user_ratings_mean_r.shape"
   ]
  },
  {
   "cell_type": "code",
   "execution_count": 7,
   "metadata": {},
   "outputs": [
    {
     "data": {
      "text/plain": [
       "(53424, 10000)"
      ]
     },
     "execution_count": 7,
     "metadata": {},
     "output_type": "execute_result"
    }
   ],
   "source": [
    "Ratings.shape"
   ]
  },
  {
   "cell_type": "code",
   "execution_count": 19,
   "metadata": {},
   "outputs": [
    {
     "data": {
      "text/plain": [
       "matrix([[0., 0., 0., ..., 0., 0., 0.],\n",
       "        [0., 5., 0., ..., 0., 0., 0.],\n",
       "        [0., 0., 0., ..., 0., 0., 0.],\n",
       "        ...,\n",
       "        [4., 5., 0., ..., 0., 0., 0.],\n",
       "        [4., 5., 0., ..., 0., 0., 0.],\n",
       "        [4., 5., 4., ..., 0., 0., 0.]])"
      ]
     },
     "execution_count": 19,
     "metadata": {},
     "output_type": "execute_result"
    }
   ],
   "source": [
    "Ratings.todense()"
   ]
  },
  {
   "cell_type": "markdown",
   "metadata": {},
   "source": []
  },
  {
   "cell_type": "code",
   "execution_count": 5,
   "metadata": {},
   "outputs": [
    {
     "ename": "ValueError",
     "evalue": "inconsistent shapes",
     "output_type": "error",
     "traceback": [
      "\u001b[0;31m---------------------------------------------------------------------------\u001b[0m",
      "\u001b[0;31mValueError\u001b[0m                                Traceback (most recent call last)",
      "\u001b[0;32m<ipython-input-5-00b38b9b6dce>\u001b[0m in \u001b[0;36m<module>\u001b[0;34m\u001b[0m\n\u001b[1;32m      1\u001b[0m \u001b[0;32mimport\u001b[0m \u001b[0mgc\u001b[0m\u001b[0;34m\u001b[0m\u001b[0;34m\u001b[0m\u001b[0m\n\u001b[1;32m      2\u001b[0m \u001b[0;34m\u001b[0m\u001b[0m\n\u001b[0;32m----> 3\u001b[0;31m \u001b[0mRatings_demeaned\u001b[0m \u001b[0;34m=\u001b[0m \u001b[0mRatings\u001b[0m \u001b[0;34m-\u001b[0m \u001b[0muser_ratings_mean_r\u001b[0m\u001b[0;34m\u001b[0m\u001b[0;34m\u001b[0m\u001b[0m\n\u001b[0m\u001b[1;32m      4\u001b[0m \u001b[0;34m\u001b[0m\u001b[0m\n\u001b[1;32m      5\u001b[0m \u001b[0mgc\u001b[0m\u001b[0;34m.\u001b[0m\u001b[0mcollect\u001b[0m\u001b[0;34m(\u001b[0m\u001b[0;34m)\u001b[0m\u001b[0;34m\u001b[0m\u001b[0;34m\u001b[0m\u001b[0m\n",
      "\u001b[0;32m~/Documents/simplon/20210406_moteur_de_recommandation_de_livre/.venv_book/lib/python3.8/site-packages/scipy/sparse/base.py\u001b[0m in \u001b[0;36m__sub__\u001b[0;34m(self, other)\u001b[0m\n\u001b[1;32m    431\u001b[0m         \u001b[0;32melif\u001b[0m \u001b[0misspmatrix\u001b[0m\u001b[0;34m(\u001b[0m\u001b[0mother\u001b[0m\u001b[0;34m)\u001b[0m\u001b[0;34m:\u001b[0m\u001b[0;34m\u001b[0m\u001b[0;34m\u001b[0m\u001b[0m\n\u001b[1;32m    432\u001b[0m             \u001b[0;32mif\u001b[0m \u001b[0mother\u001b[0m\u001b[0;34m.\u001b[0m\u001b[0mshape\u001b[0m \u001b[0;34m!=\u001b[0m \u001b[0mself\u001b[0m\u001b[0;34m.\u001b[0m\u001b[0mshape\u001b[0m\u001b[0;34m:\u001b[0m\u001b[0;34m\u001b[0m\u001b[0;34m\u001b[0m\u001b[0m\n\u001b[0;32m--> 433\u001b[0;31m                 \u001b[0;32mraise\u001b[0m \u001b[0mValueError\u001b[0m\u001b[0;34m(\u001b[0m\u001b[0;34m\"inconsistent shapes\"\u001b[0m\u001b[0;34m)\u001b[0m\u001b[0;34m\u001b[0m\u001b[0;34m\u001b[0m\u001b[0m\n\u001b[0m\u001b[1;32m    434\u001b[0m             \u001b[0;32mreturn\u001b[0m \u001b[0mself\u001b[0m\u001b[0;34m.\u001b[0m\u001b[0m_sub_sparse\u001b[0m\u001b[0;34m(\u001b[0m\u001b[0mother\u001b[0m\u001b[0;34m)\u001b[0m\u001b[0;34m\u001b[0m\u001b[0;34m\u001b[0m\u001b[0m\n\u001b[1;32m    435\u001b[0m         \u001b[0;32melif\u001b[0m \u001b[0misdense\u001b[0m\u001b[0;34m(\u001b[0m\u001b[0mother\u001b[0m\u001b[0;34m)\u001b[0m\u001b[0;34m:\u001b[0m\u001b[0;34m\u001b[0m\u001b[0;34m\u001b[0m\u001b[0m\n",
      "\u001b[0;31mValueError\u001b[0m: inconsistent shapes"
     ]
    }
   ],
   "source": [
    "import gc\n",
    "\n",
    "Ratings_demeaned = Ratings - user_ratings_mean_r\n",
    "\n",
    "gc.collect()"
   ]
  },
  {
   "cell_type": "code",
   "execution_count": 7,
   "metadata": {},
   "outputs": [
    {
     "data": {
      "text/plain": [
       "numpy.matrix"
      ]
     },
     "execution_count": 7,
     "metadata": {},
     "output_type": "execute_result"
    }
   ],
   "source": [
    "type(Ratings_demeaned)"
   ]
  },
  {
   "cell_type": "code",
   "execution_count": null,
   "metadata": {},
   "outputs": [],
   "source": [
    "#sparsity = round(1.0 - len(ratings) / float(R.shape[0] * R.shape[1]), 3)\n",
    "#print ('The sparsity level of book rating dataset is ' +  str(sparsity * 100) + '%')"
   ]
  },
  {
   "cell_type": "code",
   "execution_count": null,
   "metadata": {},
   "outputs": [],
   "source": [
    "U, sigma, Vt = svds(Ratings_demeaned, k = 30)\n",
    "\n",
    "sigma = np.diag(sigma)\n",
    "\n",
    "all_user_predicted_ratings = np.dot(np.dot(U, sigma), Vt)# + user_ratings_mean.reshape(-1, 1)"
   ]
  },
  {
   "cell_type": "code",
   "execution_count": null,
   "metadata": {},
   "outputs": [],
   "source": [
    "all_user_predicted_ratings =np.asmatrix(all_user_predicted_ratings) \n"
   ]
  },
  {
   "cell_type": "code",
   "execution_count": null,
   "metadata": {},
   "outputs": [],
   "source": [
    "all_user_predicted_ratings = all_user_predicted_ratings + user_ratings_mean_r"
   ]
  },
  {
   "cell_type": "code",
   "execution_count": null,
   "metadata": {},
   "outputs": [],
   "source": [
    "print('ok avant psarce matrix')\n",
    "sparse_matrix = csr_matrix(all_user_predicted_ratings)\n",
    "# save csr_matrix\n",
    "print('ok sparce matrix')\n",
    "\n",
    "save_path = 'training/'\n",
    "file_name = \"all_user_predicted_ratings.npz\"\n",
    "\n",
    "complete_name = os.path.join(save_path, file_name)\n",
    "\n",
    "scipy.sparse.save_npz(complete_name, sparse_matrix)"
   ]
  },
  {
   "cell_type": "code",
   "execution_count": null,
   "metadata": {},
   "outputs": [],
   "source": [
    "preds = pd.DataFrame(all_user_predicted_ratings, columns = id_book)\n",
    "preds.head()"
   ]
  },
  {
   "cell_type": "code",
   "execution_count": null,
   "metadata": {},
   "outputs": [],
   "source": []
  },
  {
   "cell_type": "code",
   "execution_count": null,
   "metadata": {},
   "outputs": [],
   "source": []
  }
 ],
 "metadata": {
  "interpreter": {
   "hash": "83937ba68736e5ee220a6f8a488f1aa3dddcb77bbb67171a77b84897af531c5c"
  },
  "kernelspec": {
   "display_name": "Python 3.8.5 64-bit ('.venv_book': venv)",
   "name": "python3"
  },
  "language_info": {
   "codemirror_mode": {
    "name": "ipython",
    "version": 3
   },
   "file_extension": ".py",
   "mimetype": "text/x-python",
   "name": "python",
   "nbconvert_exporter": "python",
   "pygments_lexer": "ipython3",
   "version": "3.8.5"
  },
  "orig_nbformat": 4
 },
 "nbformat": 4,
 "nbformat_minor": 2
}