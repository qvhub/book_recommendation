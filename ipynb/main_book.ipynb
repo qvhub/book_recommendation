{
 "metadata": {
  "language_info": {
   "codemirror_mode": {
    "name": "ipython",
    "version": 3
   },
   "file_extension": ".py",
   "mimetype": "text/x-python",
   "name": "python",
   "nbconvert_exporter": "python",
   "pygments_lexer": "ipython3",
   "version": "3.8.5"
  },
  "orig_nbformat": 2,
  "kernelspec": {
   "name": "pythonjvsc74a57bd083937ba68736e5ee220a6f8a488f1aa3dddcb77bbb67171a77b84897af531c5c",
   "display_name": "Python 3.8.5  ('.venv_book': venv)"
  },
  "metadata": {
   "interpreter": {
    "hash": "83937ba68736e5ee220a6f8a488f1aa3dddcb77bbb67171a77b84897af531c5c"
   }
  }
 },
 "nbformat": 4,
 "nbformat_minor": 2,
 "cells": [
  {
   "cell_type": "code",
   "execution_count": 3,
   "metadata": {},
   "outputs": [],
   "source": [
    "import pandas as pd\n",
    "import numpy as np"
   ]
  },
  {
   "cell_type": "code",
   "execution_count": 4,
   "metadata": {},
   "outputs": [],
   "source": [
    "df_ratings = pd.read_csv('/home/quentin/Documents/simplon/20210406_moteur_de_recommandation_de_livre/source/goodbooks-10k-master/ratings.csv', index_col=False)\n",
    "\n",
    "df_books = pd.read_csv('/home/quentin/Documents/simplon/20210406_moteur_de_recommandation_de_livre/source/goodbooks-10k-master/books.csv', index_col=False)"
   ]
  },
  {
   "cell_type": "code",
   "execution_count": 5,
   "metadata": {},
   "outputs": [
    {
     "output_type": "execute_result",
     "data": {
      "text/plain": [
       "            user_id       book_id        rating\n",
       "count  5.976479e+06  5.976479e+06  5.976479e+06\n",
       "mean   2.622446e+04  2.006477e+03  3.919866e+00\n",
       "std    1.541323e+04  2.468499e+03  9.910868e-01\n",
       "min    1.000000e+00  1.000000e+00  1.000000e+00\n",
       "25%    1.281300e+04  1.980000e+02  3.000000e+00\n",
       "50%    2.593800e+04  8.850000e+02  4.000000e+00\n",
       "75%    3.950900e+04  2.973000e+03  5.000000e+00\n",
       "max    5.342400e+04  1.000000e+04  5.000000e+00"
      ],
      "text/html": "<div>\n<style scoped>\n    .dataframe tbody tr th:only-of-type {\n        vertical-align: middle;\n    }\n\n    .dataframe tbody tr th {\n        vertical-align: top;\n    }\n\n    .dataframe thead th {\n        text-align: right;\n    }\n</style>\n<table border=\"1\" class=\"dataframe\">\n  <thead>\n    <tr style=\"text-align: right;\">\n      <th></th>\n      <th>user_id</th>\n      <th>book_id</th>\n      <th>rating</th>\n    </tr>\n  </thead>\n  <tbody>\n    <tr>\n      <th>count</th>\n      <td>5.976479e+06</td>\n      <td>5.976479e+06</td>\n      <td>5.976479e+06</td>\n    </tr>\n    <tr>\n      <th>mean</th>\n      <td>2.622446e+04</td>\n      <td>2.006477e+03</td>\n      <td>3.919866e+00</td>\n    </tr>\n    <tr>\n      <th>std</th>\n      <td>1.541323e+04</td>\n      <td>2.468499e+03</td>\n      <td>9.910868e-01</td>\n    </tr>\n    <tr>\n      <th>min</th>\n      <td>1.000000e+00</td>\n      <td>1.000000e+00</td>\n      <td>1.000000e+00</td>\n    </tr>\n    <tr>\n      <th>25%</th>\n      <td>1.281300e+04</td>\n      <td>1.980000e+02</td>\n      <td>3.000000e+00</td>\n    </tr>\n    <tr>\n      <th>50%</th>\n      <td>2.593800e+04</td>\n      <td>8.850000e+02</td>\n      <td>4.000000e+00</td>\n    </tr>\n    <tr>\n      <th>75%</th>\n      <td>3.950900e+04</td>\n      <td>2.973000e+03</td>\n      <td>5.000000e+00</td>\n    </tr>\n    <tr>\n      <th>max</th>\n      <td>5.342400e+04</td>\n      <td>1.000000e+04</td>\n      <td>5.000000e+00</td>\n    </tr>\n  </tbody>\n</table>\n</div>"
     },
     "metadata": {},
     "execution_count": 5
    }
   ],
   "source": [
    "df_ratings.describe()"
   ]
  },
  {
   "cell_type": "code",
   "execution_count": 6,
   "metadata": {},
   "outputs": [
    {
     "output_type": "execute_result",
     "data": {
      "text/plain": [
       "           book_id  goodreads_book_id  best_book_id       work_id  \\\n",
       "count  10000.00000       1.000000e+04  1.000000e+04  1.000000e+04   \n",
       "mean    5000.50000       5.264697e+06  5.471214e+06  8.646183e+06   \n",
       "std     2886.89568       7.575462e+06  7.827330e+06  1.175106e+07   \n",
       "min        1.00000       1.000000e+00  1.000000e+00  8.700000e+01   \n",
       "25%     2500.75000       4.627575e+04  4.791175e+04  1.008841e+06   \n",
       "50%     5000.50000       3.949655e+05  4.251235e+05  2.719524e+06   \n",
       "75%     7500.25000       9.382225e+06  9.636112e+06  1.451775e+07   \n",
       "max    10000.00000       3.328864e+07  3.553423e+07  5.639960e+07   \n",
       "\n",
       "        books_count        isbn13  original_publication_year  average_rating  \\\n",
       "count  10000.000000  9.415000e+03                9979.000000    10000.000000   \n",
       "mean      75.712700  9.755044e+12                1981.987674        4.002191   \n",
       "std      170.470728  4.428619e+11                 152.576665        0.254427   \n",
       "min        1.000000  1.951703e+08               -1750.000000        2.470000   \n",
       "25%       23.000000  9.780316e+12                1990.000000        3.850000   \n",
       "50%       40.000000  9.780452e+12                2004.000000        4.020000   \n",
       "75%       67.000000  9.780831e+12                2011.000000        4.180000   \n",
       "max     3455.000000  9.790008e+12                2017.000000        4.820000   \n",
       "\n",
       "       ratings_count  work_ratings_count  work_text_reviews_count  \\\n",
       "count   1.000000e+04        1.000000e+04             10000.000000   \n",
       "mean    5.400124e+04        5.968732e+04              2919.955300   \n",
       "std     1.573700e+05        1.678038e+05              6124.378132   \n",
       "min     2.716000e+03        5.510000e+03                 3.000000   \n",
       "25%     1.356875e+04        1.543875e+04               694.000000   \n",
       "50%     2.115550e+04        2.383250e+04              1402.000000   \n",
       "75%     4.105350e+04        4.591500e+04              2744.250000   \n",
       "max     4.780653e+06        4.942365e+06            155254.000000   \n",
       "\n",
       "           ratings_1      ratings_2      ratings_3     ratings_4     ratings_5  \n",
       "count   10000.000000   10000.000000   10000.000000  1.000000e+04  1.000000e+04  \n",
       "mean     1345.040600    3110.885000   11475.893800  1.996570e+04  2.378981e+04  \n",
       "std      6635.626263    9717.123578   28546.449183  5.144736e+04  7.976889e+04  \n",
       "min        11.000000      30.000000     323.000000  7.500000e+02  7.540000e+02  \n",
       "25%       196.000000     656.000000    3112.000000  5.405750e+03  5.334000e+03  \n",
       "50%       391.000000    1163.000000    4894.000000  8.269500e+03  8.836000e+03  \n",
       "75%       885.000000    2353.250000    9287.000000  1.602350e+04  1.730450e+04  \n",
       "max    456191.000000  436802.000000  793319.000000  1.481305e+06  3.011543e+06  "
      ],
      "text/html": "<div>\n<style scoped>\n    .dataframe tbody tr th:only-of-type {\n        vertical-align: middle;\n    }\n\n    .dataframe tbody tr th {\n        vertical-align: top;\n    }\n\n    .dataframe thead th {\n        text-align: right;\n    }\n</style>\n<table border=\"1\" class=\"dataframe\">\n  <thead>\n    <tr style=\"text-align: right;\">\n      <th></th>\n      <th>book_id</th>\n      <th>goodreads_book_id</th>\n      <th>best_book_id</th>\n      <th>work_id</th>\n      <th>books_count</th>\n      <th>isbn13</th>\n      <th>original_publication_year</th>\n      <th>average_rating</th>\n      <th>ratings_count</th>\n      <th>work_ratings_count</th>\n      <th>work_text_reviews_count</th>\n      <th>ratings_1</th>\n      <th>ratings_2</th>\n      <th>ratings_3</th>\n      <th>ratings_4</th>\n      <th>ratings_5</th>\n    </tr>\n  </thead>\n  <tbody>\n    <tr>\n      <th>count</th>\n      <td>10000.00000</td>\n      <td>1.000000e+04</td>\n      <td>1.000000e+04</td>\n      <td>1.000000e+04</td>\n      <td>10000.000000</td>\n      <td>9.415000e+03</td>\n      <td>9979.000000</td>\n      <td>10000.000000</td>\n      <td>1.000000e+04</td>\n      <td>1.000000e+04</td>\n      <td>10000.000000</td>\n      <td>10000.000000</td>\n      <td>10000.000000</td>\n      <td>10000.000000</td>\n      <td>1.000000e+04</td>\n      <td>1.000000e+04</td>\n    </tr>\n    <tr>\n      <th>mean</th>\n      <td>5000.50000</td>\n      <td>5.264697e+06</td>\n      <td>5.471214e+06</td>\n      <td>8.646183e+06</td>\n      <td>75.712700</td>\n      <td>9.755044e+12</td>\n      <td>1981.987674</td>\n      <td>4.002191</td>\n      <td>5.400124e+04</td>\n      <td>5.968732e+04</td>\n      <td>2919.955300</td>\n      <td>1345.040600</td>\n      <td>3110.885000</td>\n      <td>11475.893800</td>\n      <td>1.996570e+04</td>\n      <td>2.378981e+04</td>\n    </tr>\n    <tr>\n      <th>std</th>\n      <td>2886.89568</td>\n      <td>7.575462e+06</td>\n      <td>7.827330e+06</td>\n      <td>1.175106e+07</td>\n      <td>170.470728</td>\n      <td>4.428619e+11</td>\n      <td>152.576665</td>\n      <td>0.254427</td>\n      <td>1.573700e+05</td>\n      <td>1.678038e+05</td>\n      <td>6124.378132</td>\n      <td>6635.626263</td>\n      <td>9717.123578</td>\n      <td>28546.449183</td>\n      <td>5.144736e+04</td>\n      <td>7.976889e+04</td>\n    </tr>\n    <tr>\n      <th>min</th>\n      <td>1.00000</td>\n      <td>1.000000e+00</td>\n      <td>1.000000e+00</td>\n      <td>8.700000e+01</td>\n      <td>1.000000</td>\n      <td>1.951703e+08</td>\n      <td>-1750.000000</td>\n      <td>2.470000</td>\n      <td>2.716000e+03</td>\n      <td>5.510000e+03</td>\n      <td>3.000000</td>\n      <td>11.000000</td>\n      <td>30.000000</td>\n      <td>323.000000</td>\n      <td>7.500000e+02</td>\n      <td>7.540000e+02</td>\n    </tr>\n    <tr>\n      <th>25%</th>\n      <td>2500.75000</td>\n      <td>4.627575e+04</td>\n      <td>4.791175e+04</td>\n      <td>1.008841e+06</td>\n      <td>23.000000</td>\n      <td>9.780316e+12</td>\n      <td>1990.000000</td>\n      <td>3.850000</td>\n      <td>1.356875e+04</td>\n      <td>1.543875e+04</td>\n      <td>694.000000</td>\n      <td>196.000000</td>\n      <td>656.000000</td>\n      <td>3112.000000</td>\n      <td>5.405750e+03</td>\n      <td>5.334000e+03</td>\n    </tr>\n    <tr>\n      <th>50%</th>\n      <td>5000.50000</td>\n      <td>3.949655e+05</td>\n      <td>4.251235e+05</td>\n      <td>2.719524e+06</td>\n      <td>40.000000</td>\n      <td>9.780452e+12</td>\n      <td>2004.000000</td>\n      <td>4.020000</td>\n      <td>2.115550e+04</td>\n      <td>2.383250e+04</td>\n      <td>1402.000000</td>\n      <td>391.000000</td>\n      <td>1163.000000</td>\n      <td>4894.000000</td>\n      <td>8.269500e+03</td>\n      <td>8.836000e+03</td>\n    </tr>\n    <tr>\n      <th>75%</th>\n      <td>7500.25000</td>\n      <td>9.382225e+06</td>\n      <td>9.636112e+06</td>\n      <td>1.451775e+07</td>\n      <td>67.000000</td>\n      <td>9.780831e+12</td>\n      <td>2011.000000</td>\n      <td>4.180000</td>\n      <td>4.105350e+04</td>\n      <td>4.591500e+04</td>\n      <td>2744.250000</td>\n      <td>885.000000</td>\n      <td>2353.250000</td>\n      <td>9287.000000</td>\n      <td>1.602350e+04</td>\n      <td>1.730450e+04</td>\n    </tr>\n    <tr>\n      <th>max</th>\n      <td>10000.00000</td>\n      <td>3.328864e+07</td>\n      <td>3.553423e+07</td>\n      <td>5.639960e+07</td>\n      <td>3455.000000</td>\n      <td>9.790008e+12</td>\n      <td>2017.000000</td>\n      <td>4.820000</td>\n      <td>4.780653e+06</td>\n      <td>4.942365e+06</td>\n      <td>155254.000000</td>\n      <td>456191.000000</td>\n      <td>436802.000000</td>\n      <td>793319.000000</td>\n      <td>1.481305e+06</td>\n      <td>3.011543e+06</td>\n    </tr>\n  </tbody>\n</table>\n</div>"
     },
     "metadata": {},
     "execution_count": 6
    }
   ],
   "source": [
    "df_books.describe()"
   ]
  },
  {
   "cell_type": "code",
   "execution_count": 7,
   "metadata": {},
   "outputs": [],
   "source": [
    "df = pd.merge(df_books, df_ratings, left_on='book_id', right_on='book_id', how='left')\n"
   ]
  },
  {
   "cell_type": "code",
   "execution_count": 8,
   "metadata": {},
   "outputs": [
    {
     "output_type": "execute_result",
     "data": {
      "text/plain": [
       "         book_id  goodreads_book_id  best_book_id  work_id  books_count  \\\n",
       "0              1            2767052       2767052  2792775          272   \n",
       "1              1            2767052       2767052  2792775          272   \n",
       "2              1            2767052       2767052  2792775          272   \n",
       "3              1            2767052       2767052  2792775          272   \n",
       "4              1            2767052       2767052  2792775          272   \n",
       "...          ...                ...           ...      ...          ...   \n",
       "5976474    10000               8914          8914    11817           31   \n",
       "5976475    10000               8914          8914    11817           31   \n",
       "5976476    10000               8914          8914    11817           31   \n",
       "5976477    10000               8914          8914    11817           31   \n",
       "5976478    10000               8914          8914    11817           31   \n",
       "\n",
       "              isbn        isbn13          authors  original_publication_year  \\\n",
       "0        439023483  9.780439e+12  Suzanne Collins                     2008.0   \n",
       "1        439023483  9.780439e+12  Suzanne Collins                     2008.0   \n",
       "2        439023483  9.780439e+12  Suzanne Collins                     2008.0   \n",
       "3        439023483  9.780439e+12  Suzanne Collins                     2008.0   \n",
       "4        439023483  9.780439e+12  Suzanne Collins                     2008.0   \n",
       "...            ...           ...              ...                        ...   \n",
       "5976474  375700455  9.780376e+12      John Keegan                     1998.0   \n",
       "5976475  375700455  9.780376e+12      John Keegan                     1998.0   \n",
       "5976476  375700455  9.780376e+12      John Keegan                     1998.0   \n",
       "5976477  375700455  9.780376e+12      John Keegan                     1998.0   \n",
       "5976478  375700455  9.780376e+12      John Keegan                     1998.0   \n",
       "\n",
       "              original_title  ... work_text_reviews_count ratings_1  \\\n",
       "0           The Hunger Games  ...                  155254     66715   \n",
       "1           The Hunger Games  ...                  155254     66715   \n",
       "2           The Hunger Games  ...                  155254     66715   \n",
       "3           The Hunger Games  ...                  155254     66715   \n",
       "4           The Hunger Games  ...                  155254     66715   \n",
       "...                      ...  ...                     ...       ...   \n",
       "5976474  The First World War  ...                     364       117   \n",
       "5976475  The First World War  ...                     364       117   \n",
       "5976476  The First World War  ...                     364       117   \n",
       "5976477  The First World War  ...                     364       117   \n",
       "5976478  The First World War  ...                     364       117   \n",
       "\n",
       "         ratings_2  ratings_3  ratings_4  ratings_5  \\\n",
       "0           127936     560092    1481305    2706317   \n",
       "1           127936     560092    1481305    2706317   \n",
       "2           127936     560092    1481305    2706317   \n",
       "3           127936     560092    1481305    2706317   \n",
       "4           127936     560092    1481305    2706317   \n",
       "...            ...        ...        ...        ...   \n",
       "5976474        345       2031       4138       3069   \n",
       "5976475        345       2031       4138       3069   \n",
       "5976476        345       2031       4138       3069   \n",
       "5976477        345       2031       4138       3069   \n",
       "5976478        345       2031       4138       3069   \n",
       "\n",
       "                                                 image_url  \\\n",
       "0        https://images.gr-assets.com/books/1447303603m...   \n",
       "1        https://images.gr-assets.com/books/1447303603m...   \n",
       "2        https://images.gr-assets.com/books/1447303603m...   \n",
       "3        https://images.gr-assets.com/books/1447303603m...   \n",
       "4        https://images.gr-assets.com/books/1447303603m...   \n",
       "...                                                    ...   \n",
       "5976474  https://images.gr-assets.com/books/1403194704m...   \n",
       "5976475  https://images.gr-assets.com/books/1403194704m...   \n",
       "5976476  https://images.gr-assets.com/books/1403194704m...   \n",
       "5976477  https://images.gr-assets.com/books/1403194704m...   \n",
       "5976478  https://images.gr-assets.com/books/1403194704m...   \n",
       "\n",
       "                                           small_image_url  user_id  rating  \n",
       "0        https://images.gr-assets.com/books/1447303603s...     2886       5  \n",
       "1        https://images.gr-assets.com/books/1447303603s...     6158       5  \n",
       "2        https://images.gr-assets.com/books/1447303603s...     3991       4  \n",
       "3        https://images.gr-assets.com/books/1447303603s...     5281       5  \n",
       "4        https://images.gr-assets.com/books/1447303603s...     5721       5  \n",
       "...                                                    ...      ...     ...  \n",
       "5976474  https://images.gr-assets.com/books/1403194704s...    35336       4  \n",
       "5976475  https://images.gr-assets.com/books/1403194704s...    17999       3  \n",
       "5976476  https://images.gr-assets.com/books/1403194704s...    49007       4  \n",
       "5976477  https://images.gr-assets.com/books/1403194704s...    43319       5  \n",
       "5976478  https://images.gr-assets.com/books/1403194704s...    48281       4  \n",
       "\n",
       "[5976479 rows x 25 columns]"
      ],
      "text/html": "<div>\n<style scoped>\n    .dataframe tbody tr th:only-of-type {\n        vertical-align: middle;\n    }\n\n    .dataframe tbody tr th {\n        vertical-align: top;\n    }\n\n    .dataframe thead th {\n        text-align: right;\n    }\n</style>\n<table border=\"1\" class=\"dataframe\">\n  <thead>\n    <tr style=\"text-align: right;\">\n      <th></th>\n      <th>book_id</th>\n      <th>goodreads_book_id</th>\n      <th>best_book_id</th>\n      <th>work_id</th>\n      <th>books_count</th>\n      <th>isbn</th>\n      <th>isbn13</th>\n      <th>authors</th>\n      <th>original_publication_year</th>\n      <th>original_title</th>\n      <th>...</th>\n      <th>work_text_reviews_count</th>\n      <th>ratings_1</th>\n      <th>ratings_2</th>\n      <th>ratings_3</th>\n      <th>ratings_4</th>\n      <th>ratings_5</th>\n      <th>image_url</th>\n      <th>small_image_url</th>\n      <th>user_id</th>\n      <th>rating</th>\n    </tr>\n  </thead>\n  <tbody>\n    <tr>\n      <th>0</th>\n      <td>1</td>\n      <td>2767052</td>\n      <td>2767052</td>\n      <td>2792775</td>\n      <td>272</td>\n      <td>439023483</td>\n      <td>9.780439e+12</td>\n      <td>Suzanne Collins</td>\n      <td>2008.0</td>\n      <td>The Hunger Games</td>\n      <td>...</td>\n      <td>155254</td>\n      <td>66715</td>\n      <td>127936</td>\n      <td>560092</td>\n      <td>1481305</td>\n      <td>2706317</td>\n      <td>https://images.gr-assets.com/books/1447303603m...</td>\n      <td>https://images.gr-assets.com/books/1447303603s...</td>\n      <td>2886</td>\n      <td>5</td>\n    </tr>\n    <tr>\n      <th>1</th>\n      <td>1</td>\n      <td>2767052</td>\n      <td>2767052</td>\n      <td>2792775</td>\n      <td>272</td>\n      <td>439023483</td>\n      <td>9.780439e+12</td>\n      <td>Suzanne Collins</td>\n      <td>2008.0</td>\n      <td>The Hunger Games</td>\n      <td>...</td>\n      <td>155254</td>\n      <td>66715</td>\n      <td>127936</td>\n      <td>560092</td>\n      <td>1481305</td>\n      <td>2706317</td>\n      <td>https://images.gr-assets.com/books/1447303603m...</td>\n      <td>https://images.gr-assets.com/books/1447303603s...</td>\n      <td>6158</td>\n      <td>5</td>\n    </tr>\n    <tr>\n      <th>2</th>\n      <td>1</td>\n      <td>2767052</td>\n      <td>2767052</td>\n      <td>2792775</td>\n      <td>272</td>\n      <td>439023483</td>\n      <td>9.780439e+12</td>\n      <td>Suzanne Collins</td>\n      <td>2008.0</td>\n      <td>The Hunger Games</td>\n      <td>...</td>\n      <td>155254</td>\n      <td>66715</td>\n      <td>127936</td>\n      <td>560092</td>\n      <td>1481305</td>\n      <td>2706317</td>\n      <td>https://images.gr-assets.com/books/1447303603m...</td>\n      <td>https://images.gr-assets.com/books/1447303603s...</td>\n      <td>3991</td>\n      <td>4</td>\n    </tr>\n    <tr>\n      <th>3</th>\n      <td>1</td>\n      <td>2767052</td>\n      <td>2767052</td>\n      <td>2792775</td>\n      <td>272</td>\n      <td>439023483</td>\n      <td>9.780439e+12</td>\n      <td>Suzanne Collins</td>\n      <td>2008.0</td>\n      <td>The Hunger Games</td>\n      <td>...</td>\n      <td>155254</td>\n      <td>66715</td>\n      <td>127936</td>\n      <td>560092</td>\n      <td>1481305</td>\n      <td>2706317</td>\n      <td>https://images.gr-assets.com/books/1447303603m...</td>\n      <td>https://images.gr-assets.com/books/1447303603s...</td>\n      <td>5281</td>\n      <td>5</td>\n    </tr>\n    <tr>\n      <th>4</th>\n      <td>1</td>\n      <td>2767052</td>\n      <td>2767052</td>\n      <td>2792775</td>\n      <td>272</td>\n      <td>439023483</td>\n      <td>9.780439e+12</td>\n      <td>Suzanne Collins</td>\n      <td>2008.0</td>\n      <td>The Hunger Games</td>\n      <td>...</td>\n      <td>155254</td>\n      <td>66715</td>\n      <td>127936</td>\n      <td>560092</td>\n      <td>1481305</td>\n      <td>2706317</td>\n      <td>https://images.gr-assets.com/books/1447303603m...</td>\n      <td>https://images.gr-assets.com/books/1447303603s...</td>\n      <td>5721</td>\n      <td>5</td>\n    </tr>\n    <tr>\n      <th>...</th>\n      <td>...</td>\n      <td>...</td>\n      <td>...</td>\n      <td>...</td>\n      <td>...</td>\n      <td>...</td>\n      <td>...</td>\n      <td>...</td>\n      <td>...</td>\n      <td>...</td>\n      <td>...</td>\n      <td>...</td>\n      <td>...</td>\n      <td>...</td>\n      <td>...</td>\n      <td>...</td>\n      <td>...</td>\n      <td>...</td>\n      <td>...</td>\n      <td>...</td>\n      <td>...</td>\n    </tr>\n    <tr>\n      <th>5976474</th>\n      <td>10000</td>\n      <td>8914</td>\n      <td>8914</td>\n      <td>11817</td>\n      <td>31</td>\n      <td>375700455</td>\n      <td>9.780376e+12</td>\n      <td>John Keegan</td>\n      <td>1998.0</td>\n      <td>The First World War</td>\n      <td>...</td>\n      <td>364</td>\n      <td>117</td>\n      <td>345</td>\n      <td>2031</td>\n      <td>4138</td>\n      <td>3069</td>\n      <td>https://images.gr-assets.com/books/1403194704m...</td>\n      <td>https://images.gr-assets.com/books/1403194704s...</td>\n      <td>35336</td>\n      <td>4</td>\n    </tr>\n    <tr>\n      <th>5976475</th>\n      <td>10000</td>\n      <td>8914</td>\n      <td>8914</td>\n      <td>11817</td>\n      <td>31</td>\n      <td>375700455</td>\n      <td>9.780376e+12</td>\n      <td>John Keegan</td>\n      <td>1998.0</td>\n      <td>The First World War</td>\n      <td>...</td>\n      <td>364</td>\n      <td>117</td>\n      <td>345</td>\n      <td>2031</td>\n      <td>4138</td>\n      <td>3069</td>\n      <td>https://images.gr-assets.com/books/1403194704m...</td>\n      <td>https://images.gr-assets.com/books/1403194704s...</td>\n      <td>17999</td>\n      <td>3</td>\n    </tr>\n    <tr>\n      <th>5976476</th>\n      <td>10000</td>\n      <td>8914</td>\n      <td>8914</td>\n      <td>11817</td>\n      <td>31</td>\n      <td>375700455</td>\n      <td>9.780376e+12</td>\n      <td>John Keegan</td>\n      <td>1998.0</td>\n      <td>The First World War</td>\n      <td>...</td>\n      <td>364</td>\n      <td>117</td>\n      <td>345</td>\n      <td>2031</td>\n      <td>4138</td>\n      <td>3069</td>\n      <td>https://images.gr-assets.com/books/1403194704m...</td>\n      <td>https://images.gr-assets.com/books/1403194704s...</td>\n      <td>49007</td>\n      <td>4</td>\n    </tr>\n    <tr>\n      <th>5976477</th>\n      <td>10000</td>\n      <td>8914</td>\n      <td>8914</td>\n      <td>11817</td>\n      <td>31</td>\n      <td>375700455</td>\n      <td>9.780376e+12</td>\n      <td>John Keegan</td>\n      <td>1998.0</td>\n      <td>The First World War</td>\n      <td>...</td>\n      <td>364</td>\n      <td>117</td>\n      <td>345</td>\n      <td>2031</td>\n      <td>4138</td>\n      <td>3069</td>\n      <td>https://images.gr-assets.com/books/1403194704m...</td>\n      <td>https://images.gr-assets.com/books/1403194704s...</td>\n      <td>43319</td>\n      <td>5</td>\n    </tr>\n    <tr>\n      <th>5976478</th>\n      <td>10000</td>\n      <td>8914</td>\n      <td>8914</td>\n      <td>11817</td>\n      <td>31</td>\n      <td>375700455</td>\n      <td>9.780376e+12</td>\n      <td>John Keegan</td>\n      <td>1998.0</td>\n      <td>The First World War</td>\n      <td>...</td>\n      <td>364</td>\n      <td>117</td>\n      <td>345</td>\n      <td>2031</td>\n      <td>4138</td>\n      <td>3069</td>\n      <td>https://images.gr-assets.com/books/1403194704m...</td>\n      <td>https://images.gr-assets.com/books/1403194704s...</td>\n      <td>48281</td>\n      <td>4</td>\n    </tr>\n  </tbody>\n</table>\n<p>5976479 rows × 25 columns</p>\n</div>"
     },
     "metadata": {},
     "execution_count": 8
    }
   ],
   "source": [
    "df"
   ]
  },
  {
   "cell_type": "code",
   "execution_count": 9,
   "metadata": {},
   "outputs": [],
   "source": [
    "df_ubr = df[['user_id', 'book_id', 'rating']]\n",
    "\n",
    "#df_ubr['user_id'].nunique()\n",
    "\n",
    "df_ubr = df_ubr.drop_duplicates()"
   ]
  },
  {
   "cell_type": "code",
   "execution_count": 10,
   "metadata": {},
   "outputs": [
    {
     "output_type": "execute_result",
     "data": {
      "text/plain": [
       "         user_id  book_id  rating\n",
       "0           2886        1       5\n",
       "1           6158        1       5\n",
       "2           3991        1       4\n",
       "3           5281        1       5\n",
       "4           5721        1       5\n",
       "...          ...      ...     ...\n",
       "5976474    35336    10000       4\n",
       "5976475    17999    10000       3\n",
       "5976476    49007    10000       4\n",
       "5976477    43319    10000       5\n",
       "5976478    48281    10000       4\n",
       "\n",
       "[5976479 rows x 3 columns]"
      ],
      "text/html": "<div>\n<style scoped>\n    .dataframe tbody tr th:only-of-type {\n        vertical-align: middle;\n    }\n\n    .dataframe tbody tr th {\n        vertical-align: top;\n    }\n\n    .dataframe thead th {\n        text-align: right;\n    }\n</style>\n<table border=\"1\" class=\"dataframe\">\n  <thead>\n    <tr style=\"text-align: right;\">\n      <th></th>\n      <th>user_id</th>\n      <th>book_id</th>\n      <th>rating</th>\n    </tr>\n  </thead>\n  <tbody>\n    <tr>\n      <th>0</th>\n      <td>2886</td>\n      <td>1</td>\n      <td>5</td>\n    </tr>\n    <tr>\n      <th>1</th>\n      <td>6158</td>\n      <td>1</td>\n      <td>5</td>\n    </tr>\n    <tr>\n      <th>2</th>\n      <td>3991</td>\n      <td>1</td>\n      <td>4</td>\n    </tr>\n    <tr>\n      <th>3</th>\n      <td>5281</td>\n      <td>1</td>\n      <td>5</td>\n    </tr>\n    <tr>\n      <th>4</th>\n      <td>5721</td>\n      <td>1</td>\n      <td>5</td>\n    </tr>\n    <tr>\n      <th>...</th>\n      <td>...</td>\n      <td>...</td>\n      <td>...</td>\n    </tr>\n    <tr>\n      <th>5976474</th>\n      <td>35336</td>\n      <td>10000</td>\n      <td>4</td>\n    </tr>\n    <tr>\n      <th>5976475</th>\n      <td>17999</td>\n      <td>10000</td>\n      <td>3</td>\n    </tr>\n    <tr>\n      <th>5976476</th>\n      <td>49007</td>\n      <td>10000</td>\n      <td>4</td>\n    </tr>\n    <tr>\n      <th>5976477</th>\n      <td>43319</td>\n      <td>10000</td>\n      <td>5</td>\n    </tr>\n    <tr>\n      <th>5976478</th>\n      <td>48281</td>\n      <td>10000</td>\n      <td>4</td>\n    </tr>\n  </tbody>\n</table>\n<p>5976479 rows × 3 columns</p>\n</div>"
     },
     "metadata": {},
     "execution_count": 10
    }
   ],
   "source": [
    "df_ubr"
   ]
  },
  {
   "cell_type": "code",
   "execution_count": 69,
   "metadata": {},
   "outputs": [
    {
     "output_type": "error",
     "ename": "TypeError",
     "evalue": "Cannot index by location index with a non-integer key",
     "traceback": [
      "\u001b[0;31m---------------------------------------------------------------------------\u001b[0m",
      "\u001b[0;31mTypeError\u001b[0m                                 Traceback (most recent call last)",
      "\u001b[0;32m<ipython-input-69-354d8b864ded>\u001b[0m in \u001b[0;36m<module>\u001b[0;34m\u001b[0m\n\u001b[0;32m----> 1\u001b[0;31m \u001b[0msee_user_book\u001b[0m \u001b[0;34m=\u001b[0m \u001b[0mdf_ubr\u001b[0m\u001b[0;34m.\u001b[0m\u001b[0miloc\u001b[0m\u001b[0;34m[\u001b[0m\u001b[0;34m'user_id'\u001b[0m \u001b[0;34m==\u001b[0m \u001b[0;34m'2886'\u001b[0m\u001b[0;34m]\u001b[0m\u001b[0;34m\u001b[0m\u001b[0;34m\u001b[0m\u001b[0m\n\u001b[0m",
      "\u001b[0;32m~/Documents/simplon/20210406_moteur_de_recommandation_de_livre/.venv_book/lib/python3.8/site-packages/pandas/core/indexing.py\u001b[0m in \u001b[0;36m__getitem__\u001b[0;34m(self, key)\u001b[0m\n\u001b[1;32m    893\u001b[0m \u001b[0;34m\u001b[0m\u001b[0m\n\u001b[1;32m    894\u001b[0m             \u001b[0mmaybe_callable\u001b[0m \u001b[0;34m=\u001b[0m \u001b[0mcom\u001b[0m\u001b[0;34m.\u001b[0m\u001b[0mapply_if_callable\u001b[0m\u001b[0;34m(\u001b[0m\u001b[0mkey\u001b[0m\u001b[0;34m,\u001b[0m \u001b[0mself\u001b[0m\u001b[0;34m.\u001b[0m\u001b[0mobj\u001b[0m\u001b[0;34m)\u001b[0m\u001b[0;34m\u001b[0m\u001b[0;34m\u001b[0m\u001b[0m\n\u001b[0;32m--> 895\u001b[0;31m             \u001b[0;32mreturn\u001b[0m \u001b[0mself\u001b[0m\u001b[0;34m.\u001b[0m\u001b[0m_getitem_axis\u001b[0m\u001b[0;34m(\u001b[0m\u001b[0mmaybe_callable\u001b[0m\u001b[0;34m,\u001b[0m \u001b[0maxis\u001b[0m\u001b[0;34m=\u001b[0m\u001b[0maxis\u001b[0m\u001b[0;34m)\u001b[0m\u001b[0;34m\u001b[0m\u001b[0;34m\u001b[0m\u001b[0m\n\u001b[0m\u001b[1;32m    896\u001b[0m \u001b[0;34m\u001b[0m\u001b[0m\n\u001b[1;32m    897\u001b[0m     \u001b[0;32mdef\u001b[0m \u001b[0m_is_scalar_access\u001b[0m\u001b[0;34m(\u001b[0m\u001b[0mself\u001b[0m\u001b[0;34m,\u001b[0m \u001b[0mkey\u001b[0m\u001b[0;34m:\u001b[0m \u001b[0mTuple\u001b[0m\u001b[0;34m)\u001b[0m\u001b[0;34m:\u001b[0m\u001b[0;34m\u001b[0m\u001b[0;34m\u001b[0m\u001b[0m\n",
      "\u001b[0;32m~/Documents/simplon/20210406_moteur_de_recommandation_de_livre/.venv_book/lib/python3.8/site-packages/pandas/core/indexing.py\u001b[0m in \u001b[0;36m_getitem_axis\u001b[0;34m(self, key, axis)\u001b[0m\n\u001b[1;32m   1496\u001b[0m             \u001b[0mkey\u001b[0m \u001b[0;34m=\u001b[0m \u001b[0mitem_from_zerodim\u001b[0m\u001b[0;34m(\u001b[0m\u001b[0mkey\u001b[0m\u001b[0;34m)\u001b[0m\u001b[0;34m\u001b[0m\u001b[0;34m\u001b[0m\u001b[0m\n\u001b[1;32m   1497\u001b[0m             \u001b[0;32mif\u001b[0m \u001b[0;32mnot\u001b[0m \u001b[0mis_integer\u001b[0m\u001b[0;34m(\u001b[0m\u001b[0mkey\u001b[0m\u001b[0;34m)\u001b[0m\u001b[0;34m:\u001b[0m\u001b[0;34m\u001b[0m\u001b[0;34m\u001b[0m\u001b[0m\n\u001b[0;32m-> 1498\u001b[0;31m                 \u001b[0;32mraise\u001b[0m \u001b[0mTypeError\u001b[0m\u001b[0;34m(\u001b[0m\u001b[0;34m\"Cannot index by location index with a non-integer key\"\u001b[0m\u001b[0;34m)\u001b[0m\u001b[0;34m\u001b[0m\u001b[0;34m\u001b[0m\u001b[0m\n\u001b[0m\u001b[1;32m   1499\u001b[0m \u001b[0;34m\u001b[0m\u001b[0m\n\u001b[1;32m   1500\u001b[0m             \u001b[0;31m# validate the location\u001b[0m\u001b[0;34m\u001b[0m\u001b[0;34m\u001b[0m\u001b[0;34m\u001b[0m\u001b[0m\n",
      "\u001b[0;31mTypeError\u001b[0m: Cannot index by location index with a non-integer key"
     ]
    }
   ],
   "source": [
    "see_user_book = df_ubr.iloc['user_id' == '2886']"
   ]
  },
  {
   "cell_type": "code",
   "execution_count": 11,
   "metadata": {},
   "outputs": [
    {
     "output_type": "execute_result",
     "data": {
      "text/plain": [
       "book_id  1      2      3      4      5      6      7      8      9      10     \\\n",
       "user_id                                                                         \n",
       "1          NaN    NaN    NaN    5.0    NaN    NaN    NaN    NaN    NaN    4.0   \n",
       "2          NaN    5.0    NaN    NaN    5.0    NaN    NaN    4.0    NaN    5.0   \n",
       "3          NaN    NaN    NaN    3.0    NaN    NaN    NaN    NaN    NaN    NaN   \n",
       "4          NaN    5.0    NaN    4.0    4.0    NaN    4.0    4.0    NaN    5.0   \n",
       "5          NaN    NaN    NaN    NaN    NaN    4.0    NaN    NaN    NaN    NaN   \n",
       "\n",
       "book_id  ...  9991   9992   9993   9994   9995   9996   9997   9998   9999   \\\n",
       "user_id  ...                                                                  \n",
       "1        ...    NaN    NaN    NaN    NaN    NaN    NaN    NaN    NaN    NaN   \n",
       "2        ...    NaN    NaN    NaN    NaN    NaN    NaN    NaN    NaN    NaN   \n",
       "3        ...    NaN    NaN    NaN    NaN    NaN    NaN    NaN    NaN    NaN   \n",
       "4        ...    NaN    NaN    NaN    NaN    NaN    NaN    NaN    NaN    NaN   \n",
       "5        ...    NaN    NaN    NaN    NaN    NaN    NaN    NaN    NaN    NaN   \n",
       "\n",
       "book_id  10000  \n",
       "user_id         \n",
       "1          NaN  \n",
       "2          NaN  \n",
       "3          NaN  \n",
       "4          NaN  \n",
       "5          NaN  \n",
       "\n",
       "[5 rows x 10000 columns]"
      ],
      "text/html": "<div>\n<style scoped>\n    .dataframe tbody tr th:only-of-type {\n        vertical-align: middle;\n    }\n\n    .dataframe tbody tr th {\n        vertical-align: top;\n    }\n\n    .dataframe thead th {\n        text-align: right;\n    }\n</style>\n<table border=\"1\" class=\"dataframe\">\n  <thead>\n    <tr style=\"text-align: right;\">\n      <th>book_id</th>\n      <th>1</th>\n      <th>2</th>\n      <th>3</th>\n      <th>4</th>\n      <th>5</th>\n      <th>6</th>\n      <th>7</th>\n      <th>8</th>\n      <th>9</th>\n      <th>10</th>\n      <th>...</th>\n      <th>9991</th>\n      <th>9992</th>\n      <th>9993</th>\n      <th>9994</th>\n      <th>9995</th>\n      <th>9996</th>\n      <th>9997</th>\n      <th>9998</th>\n      <th>9999</th>\n      <th>10000</th>\n    </tr>\n    <tr>\n      <th>user_id</th>\n      <th></th>\n      <th></th>\n      <th></th>\n      <th></th>\n      <th></th>\n      <th></th>\n      <th></th>\n      <th></th>\n      <th></th>\n      <th></th>\n      <th></th>\n      <th></th>\n      <th></th>\n      <th></th>\n      <th></th>\n      <th></th>\n      <th></th>\n      <th></th>\n      <th></th>\n      <th></th>\n      <th></th>\n    </tr>\n  </thead>\n  <tbody>\n    <tr>\n      <th>1</th>\n      <td>NaN</td>\n      <td>NaN</td>\n      <td>NaN</td>\n      <td>5.0</td>\n      <td>NaN</td>\n      <td>NaN</td>\n      <td>NaN</td>\n      <td>NaN</td>\n      <td>NaN</td>\n      <td>4.0</td>\n      <td>...</td>\n      <td>NaN</td>\n      <td>NaN</td>\n      <td>NaN</td>\n      <td>NaN</td>\n      <td>NaN</td>\n      <td>NaN</td>\n      <td>NaN</td>\n      <td>NaN</td>\n      <td>NaN</td>\n      <td>NaN</td>\n    </tr>\n    <tr>\n      <th>2</th>\n      <td>NaN</td>\n      <td>5.0</td>\n      <td>NaN</td>\n      <td>NaN</td>\n      <td>5.0</td>\n      <td>NaN</td>\n      <td>NaN</td>\n      <td>4.0</td>\n      <td>NaN</td>\n      <td>5.0</td>\n      <td>...</td>\n      <td>NaN</td>\n      <td>NaN</td>\n      <td>NaN</td>\n      <td>NaN</td>\n      <td>NaN</td>\n      <td>NaN</td>\n      <td>NaN</td>\n      <td>NaN</td>\n      <td>NaN</td>\n      <td>NaN</td>\n    </tr>\n    <tr>\n      <th>3</th>\n      <td>NaN</td>\n      <td>NaN</td>\n      <td>NaN</td>\n      <td>3.0</td>\n      <td>NaN</td>\n      <td>NaN</td>\n      <td>NaN</td>\n      <td>NaN</td>\n      <td>NaN</td>\n      <td>NaN</td>\n      <td>...</td>\n      <td>NaN</td>\n      <td>NaN</td>\n      <td>NaN</td>\n      <td>NaN</td>\n      <td>NaN</td>\n      <td>NaN</td>\n      <td>NaN</td>\n      <td>NaN</td>\n      <td>NaN</td>\n      <td>NaN</td>\n    </tr>\n    <tr>\n      <th>4</th>\n      <td>NaN</td>\n      <td>5.0</td>\n      <td>NaN</td>\n      <td>4.0</td>\n      <td>4.0</td>\n      <td>NaN</td>\n      <td>4.0</td>\n      <td>4.0</td>\n      <td>NaN</td>\n      <td>5.0</td>\n      <td>...</td>\n      <td>NaN</td>\n      <td>NaN</td>\n      <td>NaN</td>\n      <td>NaN</td>\n      <td>NaN</td>\n      <td>NaN</td>\n      <td>NaN</td>\n      <td>NaN</td>\n      <td>NaN</td>\n      <td>NaN</td>\n    </tr>\n    <tr>\n      <th>5</th>\n      <td>NaN</td>\n      <td>NaN</td>\n      <td>NaN</td>\n      <td>NaN</td>\n      <td>NaN</td>\n      <td>4.0</td>\n      <td>NaN</td>\n      <td>NaN</td>\n      <td>NaN</td>\n      <td>NaN</td>\n      <td>...</td>\n      <td>NaN</td>\n      <td>NaN</td>\n      <td>NaN</td>\n      <td>NaN</td>\n      <td>NaN</td>\n      <td>NaN</td>\n      <td>NaN</td>\n      <td>NaN</td>\n      <td>NaN</td>\n      <td>NaN</td>\n    </tr>\n  </tbody>\n</table>\n<p>5 rows × 10000 columns</p>\n</div>"
     },
     "metadata": {},
     "execution_count": 11
    }
   ],
   "source": [
    "df_p = df_ubr.pivot(index = 'user_id', columns ='book_id', values = 'rating')\n",
    "df_p.head()"
   ]
  },
  {
   "cell_type": "code",
   "execution_count": 12,
   "metadata": {},
   "outputs": [],
   "source": [
    "for i in range (1, 10001):\n",
    "    df_p[i] = df_p[i].replace(np.nan, 0)"
   ]
  },
  {
   "cell_type": "code",
   "execution_count": 13,
   "metadata": {},
   "outputs": [
    {
     "output_type": "execute_result",
     "data": {
      "text/plain": [
       "book_id  1      2      3      4      5      6      7      8      9      10     \\\n",
       "user_id                                                                         \n",
       "1          0.0    0.0    0.0    5.0    0.0    0.0    0.0    0.0    0.0    4.0   \n",
       "2          0.0    5.0    0.0    0.0    5.0    0.0    0.0    4.0    0.0    5.0   \n",
       "3          0.0    0.0    0.0    3.0    0.0    0.0    0.0    0.0    0.0    0.0   \n",
       "4          0.0    5.0    0.0    4.0    4.0    0.0    4.0    4.0    0.0    5.0   \n",
       "5          0.0    0.0    0.0    0.0    0.0    4.0    0.0    0.0    0.0    0.0   \n",
       "\n",
       "book_id  ...  9991   9992   9993   9994   9995   9996   9997   9998   9999   \\\n",
       "user_id  ...                                                                  \n",
       "1        ...    0.0    0.0    0.0    0.0    0.0    0.0    0.0    0.0    0.0   \n",
       "2        ...    0.0    0.0    0.0    0.0    0.0    0.0    0.0    0.0    0.0   \n",
       "3        ...    0.0    0.0    0.0    0.0    0.0    0.0    0.0    0.0    0.0   \n",
       "4        ...    0.0    0.0    0.0    0.0    0.0    0.0    0.0    0.0    0.0   \n",
       "5        ...    0.0    0.0    0.0    0.0    0.0    0.0    0.0    0.0    0.0   \n",
       "\n",
       "book_id  10000  \n",
       "user_id         \n",
       "1          0.0  \n",
       "2          0.0  \n",
       "3          0.0  \n",
       "4          0.0  \n",
       "5          0.0  \n",
       "\n",
       "[5 rows x 10000 columns]"
      ],
      "text/html": "<div>\n<style scoped>\n    .dataframe tbody tr th:only-of-type {\n        vertical-align: middle;\n    }\n\n    .dataframe tbody tr th {\n        vertical-align: top;\n    }\n\n    .dataframe thead th {\n        text-align: right;\n    }\n</style>\n<table border=\"1\" class=\"dataframe\">\n  <thead>\n    <tr style=\"text-align: right;\">\n      <th>book_id</th>\n      <th>1</th>\n      <th>2</th>\n      <th>3</th>\n      <th>4</th>\n      <th>5</th>\n      <th>6</th>\n      <th>7</th>\n      <th>8</th>\n      <th>9</th>\n      <th>10</th>\n      <th>...</th>\n      <th>9991</th>\n      <th>9992</th>\n      <th>9993</th>\n      <th>9994</th>\n      <th>9995</th>\n      <th>9996</th>\n      <th>9997</th>\n      <th>9998</th>\n      <th>9999</th>\n      <th>10000</th>\n    </tr>\n    <tr>\n      <th>user_id</th>\n      <th></th>\n      <th></th>\n      <th></th>\n      <th></th>\n      <th></th>\n      <th></th>\n      <th></th>\n      <th></th>\n      <th></th>\n      <th></th>\n      <th></th>\n      <th></th>\n      <th></th>\n      <th></th>\n      <th></th>\n      <th></th>\n      <th></th>\n      <th></th>\n      <th></th>\n      <th></th>\n      <th></th>\n    </tr>\n  </thead>\n  <tbody>\n    <tr>\n      <th>1</th>\n      <td>0.0</td>\n      <td>0.0</td>\n      <td>0.0</td>\n      <td>5.0</td>\n      <td>0.0</td>\n      <td>0.0</td>\n      <td>0.0</td>\n      <td>0.0</td>\n      <td>0.0</td>\n      <td>4.0</td>\n      <td>...</td>\n      <td>0.0</td>\n      <td>0.0</td>\n      <td>0.0</td>\n      <td>0.0</td>\n      <td>0.0</td>\n      <td>0.0</td>\n      <td>0.0</td>\n      <td>0.0</td>\n      <td>0.0</td>\n      <td>0.0</td>\n    </tr>\n    <tr>\n      <th>2</th>\n      <td>0.0</td>\n      <td>5.0</td>\n      <td>0.0</td>\n      <td>0.0</td>\n      <td>5.0</td>\n      <td>0.0</td>\n      <td>0.0</td>\n      <td>4.0</td>\n      <td>0.0</td>\n      <td>5.0</td>\n      <td>...</td>\n      <td>0.0</td>\n      <td>0.0</td>\n      <td>0.0</td>\n      <td>0.0</td>\n      <td>0.0</td>\n      <td>0.0</td>\n      <td>0.0</td>\n      <td>0.0</td>\n      <td>0.0</td>\n      <td>0.0</td>\n    </tr>\n    <tr>\n      <th>3</th>\n      <td>0.0</td>\n      <td>0.0</td>\n      <td>0.0</td>\n      <td>3.0</td>\n      <td>0.0</td>\n      <td>0.0</td>\n      <td>0.0</td>\n      <td>0.0</td>\n      <td>0.0</td>\n      <td>0.0</td>\n      <td>...</td>\n      <td>0.0</td>\n      <td>0.0</td>\n      <td>0.0</td>\n      <td>0.0</td>\n      <td>0.0</td>\n      <td>0.0</td>\n      <td>0.0</td>\n      <td>0.0</td>\n      <td>0.0</td>\n      <td>0.0</td>\n    </tr>\n    <tr>\n      <th>4</th>\n      <td>0.0</td>\n      <td>5.0</td>\n      <td>0.0</td>\n      <td>4.0</td>\n      <td>4.0</td>\n      <td>0.0</td>\n      <td>4.0</td>\n      <td>4.0</td>\n      <td>0.0</td>\n      <td>5.0</td>\n      <td>...</td>\n      <td>0.0</td>\n      <td>0.0</td>\n      <td>0.0</td>\n      <td>0.0</td>\n      <td>0.0</td>\n      <td>0.0</td>\n      <td>0.0</td>\n      <td>0.0</td>\n      <td>0.0</td>\n      <td>0.0</td>\n    </tr>\n    <tr>\n      <th>5</th>\n      <td>0.0</td>\n      <td>0.0</td>\n      <td>0.0</td>\n      <td>0.0</td>\n      <td>0.0</td>\n      <td>4.0</td>\n      <td>0.0</td>\n      <td>0.0</td>\n      <td>0.0</td>\n      <td>0.0</td>\n      <td>...</td>\n      <td>0.0</td>\n      <td>0.0</td>\n      <td>0.0</td>\n      <td>0.0</td>\n      <td>0.0</td>\n      <td>0.0</td>\n      <td>0.0</td>\n      <td>0.0</td>\n      <td>0.0</td>\n      <td>0.0</td>\n    </tr>\n  </tbody>\n</table>\n<p>5 rows × 10000 columns</p>\n</div>"
     },
     "metadata": {},
     "execution_count": 13
    }
   ],
   "source": [
    "df_p.head()"
   ]
  },
  {
   "source": [
    "## KNN"
   ],
   "cell_type": "markdown",
   "metadata": {}
  },
  {
   "cell_type": "code",
   "execution_count": 14,
   "metadata": {},
   "outputs": [],
   "source": [
    "# https://aman-makwana101932.medium.com/understanding-recommendation-system-and-knn-with-project-book-recommendation-system-c648e47ff4f6"
   ]
  },
  {
   "cell_type": "code",
   "execution_count": 15,
   "metadata": {},
   "outputs": [],
   "source": [
    "from scipy.sparse import csr_matrix\n",
    "\n",
    "mat_book_features = csr_matrix(df_p.values)"
   ]
  },
  {
   "cell_type": "code",
   "execution_count": 19,
   "metadata": {},
   "outputs": [
    {
     "output_type": "display_data",
     "data": {
      "text/plain": "<53424x10000 sparse matrix of type '<class 'numpy.float64'>'\n\twith 5976479 stored elements in Compressed Sparse Row format>"
     },
     "metadata": {}
    }
   ],
   "source": [
    "mat_book_features"
   ]
  },
  {
   "cell_type": "code",
   "execution_count": 23,
   "metadata": {},
   "outputs": [],
   "source": [
    "from sklearn.neighbors import NearestNeighbors"
   ]
  },
  {
   "cell_type": "code",
   "execution_count": 29,
   "metadata": {},
   "outputs": [],
   "source": [
    "model_knn = NearestNeighbors(metric='cosine', algorithm='brute', n_neighbors=20, n_jobs=-1).fit(mat_book_features)"
   ]
  },
  {
   "cell_type": "code",
   "execution_count": 59,
   "metadata": {},
   "outputs": [
    {
     "output_type": "stream",
     "name": "stdout",
     "text": [
      "35411\n"
     ]
    }
   ],
   "source": [
    "us_canada_user_rating_pivot = df_p\n",
    "\n",
    "query_index = np.random.choice(us_canada_user_rating_pivot.shape[0])\n",
    "print(query_index)\n",
    "distances, indices = model_knn.kneighbors(us_canada_user_rating_pivot.iloc[query_index,:].values.reshape(1, -1), n_neighbors = 10)"
   ]
  },
  {
   "cell_type": "code",
   "execution_count": 60,
   "metadata": {},
   "outputs": [
    {
     "output_type": "execute_result",
     "data": {
      "text/plain": [
       "35412"
      ]
     },
     "metadata": {},
     "execution_count": 60
    }
   ],
   "source": [
    "us_canada_user_rating_pivot.index[query_index]"
   ]
  },
  {
   "cell_type": "code",
   "execution_count": 61,
   "metadata": {},
   "outputs": [
    {
     "output_type": "stream",
     "name": "stdout",
     "text": [
      "Recommendations for 35412:\n\n1: 17758, with distance of 0.6691267961490414:\n2: 21161, with distance of 0.6751132127509047:\n3: 14440, with distance of 0.6763376701748447:\n4: 5028, with distance of 0.6803975767188248:\n5: 43933, with distance of 0.6952273154814177:\n6: 43514, with distance of 0.7039470679799967:\n7: 35271, with distance of 0.7043022198056368:\n8: 22162, with distance of 0.7069115862469372:\n9: 18077, with distance of 0.7073024369760682:\n"
     ]
    }
   ],
   "source": [
    "for i in range(0, len(distances.flatten())):\n",
    "    if i == 0:\n",
    "        print('Recommendations for {0}:\\n'.format(us_canada_user_rating_pivot.index[query_index]))\n",
    "    else:\n",
    "        print('{0}: {1}, with distance of {2}:'.format(i, us_canada_user_rating_pivot.index[indices.flatten()[i]], distances.flatten()[i]))"
   ]
  },
  {
   "cell_type": "code",
   "execution_count": 58,
   "metadata": {},
   "outputs": [
    {
     "output_type": "execute_result",
     "data": {
      "text/plain": [
       "array([[0.        , 0.69478102, 0.72267859, 0.72360107, 0.73127448,\n",
       "        0.73383791]])"
      ]
     },
     "metadata": {},
     "execution_count": 58
    }
   ],
   "source": [
    "distances"
   ]
  },
  {
   "cell_type": "code",
   "execution_count": null,
   "metadata": {},
   "outputs": [],
   "source": []
  }
 ]
}